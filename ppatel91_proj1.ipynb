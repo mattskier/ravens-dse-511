{
 "cells": [
  {
   "cell_type": "markdown",
   "metadata": {},
   "source": [
    "### Project 1 \n"
   ]
  },
  {
   "cell_type": "code",
   "execution_count": 46,
   "metadata": {},
   "outputs": [],
   "source": [
    "import sqlite3 as sq\n",
    "import matplotlib.pyplot as plt\n",
    "%matplotlib inline\n",
    "import pandas as pd\n",
    "import matplotlib\n",
    "import seaborn as sbn\n",
    "import datetime as dt"
   ]
  },
  {
   "cell_type": "code",
   "execution_count": 47,
   "metadata": {},
   "outputs": [
    {
     "name": "stdout",
     "output_type": "stream",
     "text": [
      "(1, 18, 'POPLATEK MESICNE', '1995-03-24')\n",
      "(2, 1, 'POPLATEK MESICNE', '1993-02-26')\n",
      "(3, 5, 'POPLATEK MESICNE', '1997-07-07')\n",
      "(4, 12, 'POPLATEK MESICNE', '1996-02-21')\n",
      "(5, 15, 'POPLATEK MESICNE', '1997-05-30')\n",
      "(6, 51, 'POPLATEK MESICNE', '1994-09-27')\n",
      "(7, 60, 'POPLATEK MESICNE', '1996-11-24')\n",
      "(8, 57, 'POPLATEK MESICNE', '1995-09-21')\n",
      "(9, 70, 'POPLATEK MESICNE', '1993-01-27')\n",
      "(10, 54, 'POPLATEK MESICNE', '1996-08-28')\n"
     ]
    }
   ],
   "source": [
    "conn = sq.connect('financial.db')\n",
    "c = conn.cursor()\n",
    "for row in  c.execute('SELECT  * FROM account limit 10'):\n",
    "    print(row)\n",
    "    \n"
   ]
  },
  {
   "cell_type": "markdown",
   "metadata": {},
   "source": [
    "## Reading all tables using pandas\n",
    "### Data description\n",
    "#### account: 4500 rows in table. Each record describes characteristics of an account\n",
    "#### client: 5369 rows in table. Each record describes characterics of a client\n",
    "#### disp: 5369 rows in table. Each record relates together a client with an account\n",
    "#### order: 6471 rows in table. Each record describes characteristics of a payment order.\n",
    "#### trans: 1056320 rows in table. It stands for transactions. Each record describes one transaction on an account\n",
    "#### loan: 682 rows in table. Each record describes a loan granted for a given account.\n",
    "#### credit_card: 892 rows in table. Each record describes a credit card issued to an account.\n",
    "#### demographic: 77 rows in table. Each record describes demographic characteristics of a district.\n",
    "\n",
    "##### source for the information : https://sorry.vse.cz/~berka/challenge/pkdd1999/berka.htm\n"
   ]
  },
  {
   "cell_type": "code",
   "execution_count": 48,
   "metadata": {},
   "outputs": [],
   "source": [
    "#here reading all the tables using pandas\n",
    "\n",
    "account = pd.read_sql_query(\"SELECT  * FROM account\",conn)\n",
    "client = pd.read_sql_query(\"SELECT  * FROM client\",conn)\n",
    "disp = pd.read_sql_query(\"SELECT  * FROM disp\",conn)\n",
    "order = pd.read_sql_query(\"SELECT  * FROM 'order'\",conn)\n",
    "trans = pd.read_sql_query(\"SELECT  * FROM trans\",conn)\n",
    "loan = pd.read_sql_query(\"SELECT  * FROM loan\",conn)\n",
    "credit_card = pd.read_sql_query(\"SELECT  * FROM card\",conn)\n",
    "demographic = pd.read_sql_query(\"SELECT  * FROM district\",conn)\n"
   ]
  },
  {
   "cell_type": "code",
   "execution_count": 49,
   "metadata": {},
   "outputs": [
    {
     "name": "stdout",
     "output_type": "stream",
     "text": [
      "   account_id  district_id         frequency        date\n",
      "0           1           18  POPLATEK MESICNE  1995-03-24\n",
      "1           2            1  POPLATEK MESICNE  1993-02-26\n",
      "2           3            5  POPLATEK MESICNE  1997-07-07\n",
      "3           4           12  POPLATEK MESICNE  1996-02-21\n",
      "4           5           15  POPLATEK MESICNE  1997-05-30\n",
      "   district_id           A2               A3       A4  A5  A6  A7  A8  A9  \\\n",
      "0            1  Hl.m. Praha           Prague  1204953   0   0   0   1   1   \n",
      "1            2      Benesov  central Bohemia    88884  80  26   6   2   5   \n",
      "2            3       Beroun  central Bohemia    75232  55  26   4   1   5   \n",
      "3            4       Kladno  central Bohemia   149893  63  29   6   2   6   \n",
      "4            5        Kolin  central Bohemia    95616  65  30   4   1   6   \n",
      "\n",
      "     A10    A11  A12   A13  A14      A15    A16  \n",
      "0  100.0  12541  0.2  0.43  167  85677.0  99107  \n",
      "1   46.7   8507  1.6  1.85  132   2159.0   2674  \n",
      "2   41.7   8980  1.9  2.21  111   2824.0   2813  \n",
      "3   67.4   9753  4.6  5.05  109   5244.0   5892  \n",
      "4   51.4   9307  3.8  4.43  118   2616.0   3040  \n"
     ]
    }
   ],
   "source": [
    "print(account.head())\n",
    "print(demographic.head())"
   ]
  },
  {
   "cell_type": "markdown",
   "metadata": {},
   "source": [
    "#### Exploring all tables one by one and then merge them all later on.\n",
    "#### Lets start with account table. "
   ]
  },
  {
   "cell_type": "code",
   "execution_count": 50,
   "metadata": {},
   "outputs": [
    {
     "name": "stdout",
     "output_type": "stream",
     "text": [
      "(5369,)\n",
      "   account_id  district_id  count(*)\n",
      "0           1           18        60\n",
      "1           2            1       663\n",
      "2           3            5        71\n",
      "3           4           12        44\n",
      "4           5           15        63\n",
      "   account_id  district_id         frequency account_created_year\n",
      "0           1           18  POPLATEK MESICNE                 1995\n",
      "1           2            1  POPLATEK MESICNE                 1993\n",
      "2           3            5  POPLATEK MESICNE                 1997\n",
      "3           4           12  POPLATEK MESICNE                 1996\n",
      "4           5           15  POPLATEK MESICNE                 1997\n"
     ]
    }
   ],
   "source": [
    "# checking if one claient have more than one account\n",
    "for row in  c.execute('SELECT  count(*) FROM disp as d inner join client as c on c.client_id = d.client_id '):\n",
    "    print(row) # total resulted records are 5369. that means all records from client table are matching with disp table. that means we can merge disp and account table to find out one client has how many accounts.\n",
    "    \n",
    "ac_cli_join = pd.read_sql_query(\"SELECT a.account_id, c.district_id, count(*) from client as c inner join account as a on c.district_id=a.district_id group by c.district_id, a.account_id having count(*)>1\",conn)\n",
    "print(ac_cli_join.head())\n",
    "\n",
    "# lets grab the year from date column in account table\n",
    "account['account_created_year'] = [d.split('-')[0] for d in account.date]\n",
    "\n",
    "account = account.drop(['date'], axis=1)\n",
    "print(account.head())"
   ]
  },
  {
   "cell_type": "code",
   "execution_count": 51,
   "metadata": {},
   "outputs": [
    {
     "name": "stdout",
     "output_type": "stream",
     "text": [
      "   order_id  account_id bank_to  account_to  amount k_symbol  account_id  \\\n",
      "0     29401           1      YZ    87144583  2452.0     SIPO           1   \n",
      "1     29402           2      ST    89597016  3372.7     UVER           2   \n",
      "2     29403           2      QR    13943797  7266.0     SIPO           2   \n",
      "3     29404           3      WX    83084338  1135.0     SIPO           3   \n",
      "4     29405           3      CD    24485939   327.0                    3   \n",
      "\n",
      "   district_id         frequency        date  \n",
      "0           18  POPLATEK MESICNE  1995-03-24  \n",
      "1            1  POPLATEK MESICNE  1993-02-26  \n",
      "2            1  POPLATEK MESICNE  1993-02-26  \n",
      "3            5  POPLATEK MESICNE  1997-07-07  \n",
      "4            5  POPLATEK MESICNE  1997-07-07  \n"
     ]
    },
    {
     "data": {
      "text/plain": [
       "Text(0.5, 1.0, 'frequency of Statement issuence')"
      ]
     },
     "execution_count": 51,
     "metadata": {},
     "output_type": "execute_result"
    },
    {
     "data": {
      "image/png": "[encoded data removed]",
      "text/plain": [
       "<Figure size 432x288 with 1 Axes>"
      ]
     },
     "metadata": {
      "needs_background": "light"
     },
     "output_type": "display_data"
    }
   ],
   "source": [
    "#account and order table join to see relatonship between both of them\n",
    "ac_ord_join = pd.read_sql_query(\"SELECT * from 'order' as o inner join account as a on o.account_id=a.account_id\",conn)\n",
    "print(ac_ord_join.head())\n",
    "\n",
    "plt.hist(account['frequency'],10)\n",
    "plt.title('frequency of Statement issuence')\n",
    "\n"
   ]
  },
  {
   "cell_type": "markdown",
   "metadata": {},
   "source": [
    "#### Here is important visual from account table. According to above visual, it seems like frequecny of monthly issuance statement is way higher than weekly and after transaction issuence for each account. Here POPLATEK MESICNE, POPLATEK TYDNE and POPLATEK PO OBRATU stands for monthly, weekly and current transactions."
   ]
  },
  {
   "cell_type": "markdown",
   "metadata": {},
   "source": [
    "### Client table\n",
    "#### exploring gender catagory"
   ]
  },
  {
   "cell_type": "code",
   "execution_count": 52,
   "metadata": {},
   "outputs": [
    {
     "data": {
      "text/plain": [
       "Text(0.5, 1.0, 'gender')"
      ]
     },
     "execution_count": 52,
     "metadata": {},
     "output_type": "execute_result"
    },
    {
     "data": {
      "image/png": "[encoded data removed]",
      "text/plain": [
       "<Figure size 432x288 with 1 Axes>"
      ]
     },
     "metadata": {
      "needs_background": "light"
     },
     "output_type": "display_data"
    }
   ],
   "source": [
    "client['gender'].value_counts().plot(kind='bar',color='red', subplots = True)\n",
    "plt.title('gender')"
   ]
  },
  {
   "cell_type": "markdown",
   "metadata": {},
   "source": [
    "#### Here is important visual from client table. According to this bar chart it seems like we have almost equal amount of male and female customers."
   ]
  },
  {
   "cell_type": "code",
   "execution_count": 53,
   "metadata": {},
   "outputs": [],
   "source": [
    "import numpy as np"
   ]
  },
  {
   "cell_type": "code",
   "execution_count": 54,
   "metadata": {},
   "outputs": [
    {
     "name": "stdout",
     "output_type": "stream",
     "text": [
      "   client_id gender  district_id client_birth_year  age  age_grp\n",
      "0          1      F           18              1970   29       20\n",
      "1          2      M            1              1945   54       50\n",
      "2          3      F            1              1940   59       50\n",
      "3          4      M            5              1956   43       40\n",
      "4          5      F            5              1960   39       30\n"
     ]
    }
   ],
   "source": [
    "# grab the year from birth date and calculate client age. Suppose we assume current year as 1999\n",
    "client['client_birth_year'] = [d.split('-')[0] for d in client.birth_date]\n",
    "\n",
    "client = client.drop(['birth_date'], axis=1)\n",
    "cl = np.array(client['client_birth_year'])\n",
    "#year_int = int(cl)\n",
    "\n",
    "year_int = cl.astype(np.int)\n",
    "\n",
    "client['age'] = 1999 - year_int\n",
    "#print(year_int)\n",
    "\n",
    "client['age_grp'] = client['age'] // 10 * 10\n",
    "\n",
    "print(client.head())"
   ]
  },
  {
   "cell_type": "markdown",
   "metadata": {},
   "source": [
    "### Demographic table\n",
    "#### The important thing is here to explore about total no. of inhabitants, no. of muncipalities with inhabitants, no. of cities, Avg salaries, unemployment rates during perticular year, no. of enterpreneurs, no. of commited crimes withing year 1995 to 1996. We can explore these all perameters to see their maximum, minimum and mean."
   ]
  },
  {
   "cell_type": "code",
   "execution_count": 56,
   "metadata": {},
   "outputs": [
    {
     "name": "stdout",
     "output_type": "stream",
     "text": [
      "       district_id            A4          A5         A6         A7         A8  \\\n",
      "count    77.000000  7.700000e+01   77.000000  77.000000  77.000000  77.000000   \n",
      "mean     39.000000  1.338849e+05   48.623377  24.324675   6.272727   1.727273   \n",
      "std      22.371857  1.369135e+05   32.741829  12.780991   4.015222   1.008338   \n",
      "min       1.000000  4.282100e+04    0.000000   0.000000   0.000000   0.000000   \n",
      "25%      20.000000  8.585200e+04   22.000000  16.000000   4.000000   1.000000   \n",
      "50%      39.000000  1.088710e+05   49.000000  25.000000   6.000000   2.000000   \n",
      "75%      58.000000  1.390120e+05   71.000000  32.000000   8.000000   2.000000   \n",
      "max      77.000000  1.204953e+06  151.000000  70.000000  20.000000   5.000000   \n",
      "\n",
      "              A9         A10           A11        A12        A13         A14  \\\n",
      "count  77.000000   77.000000     77.000000  76.000000  77.000000   77.000000   \n",
      "mean    6.259740   63.035065   9031.675325   3.072368   3.787013  116.129870   \n",
      "std     2.435497   16.221727    790.202347   1.664179   1.908480   16.608773   \n",
      "min     1.000000   33.900000   8110.000000   0.200000   0.430000   81.000000   \n",
      "25%     5.000000   51.900000   8512.000000   1.700000   2.310000  105.000000   \n",
      "50%     6.000000   59.800000   8814.000000   2.800000   3.600000  113.000000   \n",
      "75%     8.000000   73.500000   9317.000000   3.850000   4.790000  126.000000   \n",
      "max    11.000000  100.000000  12541.000000   7.300000   9.400000  167.000000   \n",
      "\n",
      "                A15           A16  \n",
      "count     76.000000     77.000000  \n",
      "mean    4850.315789   5030.831169  \n",
      "std     9888.951933  11270.796786  \n",
      "min      818.000000    888.000000  \n",
      "25%     2029.750000   2122.000000  \n",
      "50%     2932.000000   3040.000000  \n",
      "75%     4525.500000   4595.000000  \n",
      "max    85677.000000  99107.000000  \n"
     ]
    }
   ],
   "source": [
    "district = demographic.describe()\n",
    "print(district)"
   ]
  },
  {
   "cell_type": "markdown",
   "metadata": {},
   "source": [
    "### Order table\n",
    "#### Lets explore order table to see in which account maximum times amount debited and get rid of unneccesary columns\n",
    "\n"
   ]
  },
  {
   "cell_type": "code",
   "execution_count": 57,
   "metadata": {},
   "outputs": [
    {
     "name": "stdout",
     "output_type": "stream",
     "text": [
      "   amount  account_id  count(*)\n",
      "0  4422.1          96         5\n",
      "1  1436.0          97         5\n",
      "2  6256.0         173         5\n",
      "3  4777.0         311         5\n",
      "4  1766.0         365         5\n"
     ]
    },
    {
     "data": {
      "text/plain": [
       "<matplotlib.axes._subplots.AxesSubplot at 0x7fd665fb1fd0>"
      ]
     },
     "execution_count": 57,
     "metadata": {},
     "output_type": "execute_result"
    },
    {
     "data": {
      "image/png": "[encoded data removed]",
      "text/plain": [
       "<Figure size 432x288 with 1 Axes>"
      ]
     },
     "metadata": {
      "needs_background": "light"
     },
     "output_type": "display_data"
    }
   ],
   "source": [
    "#main puprpose of this to see in which account maximum number of times amount debited. here maximum 5 times.\n",
    "order_exp = pd.read_sql_query(\"SELECT amount, account_id, count(*) from 'order' group by account_id having count(*)>4\",conn)\n",
    "print(order_exp.head())\n",
    "\n",
    "#plot this to see distribution of amount\n",
    "\n",
    "sbn.distplot(order_exp['amount'], bins=20)"
   ]
  },
  {
   "cell_type": "code",
   "execution_count": 58,
   "metadata": {},
   "outputs": [
    {
     "name": "stdout",
     "output_type": "stream",
     "text": [
      "      account_id         LEASING  POJISTNE     SIPO    UVER\n",
      "0              1    0.0      0.0         0   2452.0     0.0\n",
      "1              2    0.0      0.0         0   7266.0  3372.7\n",
      "2              3  327.0      0.0      3539   1135.0     0.0\n",
      "3              4    0.0      0.0         0   1681.5     0.0\n",
      "4              5    0.0      0.0         0   2668.0     0.0\n",
      "...          ...    ...      ...       ...      ...     ...\n",
      "3753       11328    0.0      0.0         0      0.0  4674.0\n",
      "3754       11333    0.0   3286.7         0      0.0     0.0\n",
      "3755       11349    0.0      0.0         0  10886.0  6998.0\n",
      "3756       11359  254.0      0.0         0   4518.0  4502.3\n",
      "3757       11362   92.5      0.0       330   4780.0  5392.0\n",
      "\n",
      "[3758 rows x 6 columns]\n"
     ]
    }
   ],
   "source": [
    "# transform order table to see important informations only and will get rid of unneccesary columns as well\n",
    "order.count()\n",
    "\n",
    "#order['account_to'].nunique()\n",
    "#ppp = order.loc[:, ~order.columns.str.contains('^')]\n",
    "\n",
    "order = order.pivot_table(index=['account_id'], columns = 'k_symbol', values='amount', fill_value = 0)\n",
    "order.columns.name = None\n",
    "order = order.reset_index()\n",
    "print(order)"
   ]
  },
  {
   "cell_type": "markdown",
   "metadata": {},
   "source": [
    "#### Here is final transformed order table. Where I kept the information about payment characteristics along with amount and account id. So that we can have all payment information for perticular account. Also, column name POJISTNE stands for 'insurrance payment', SIPO stands for 'household', LEASING stands for 'leasing' and UVER stands for 'loan payment'"
   ]
  },
  {
   "cell_type": "markdown",
   "metadata": {},
   "source": [
    "### Transaction(trans) table\n",
    "#### we need to transform this table in order to get rid of unncessary columns and data"
   ]
  },
  {
   "cell_type": "code",
   "execution_count": 59,
   "metadata": {},
   "outputs": [
    {
     "name": "stdout",
     "output_type": "stream",
     "text": [
      "<bound method DataFrame.reset_index of                                                             Credit  Debit  \\\n",
      "account_id date       operation                    balance                  \n",
      "1          1995-03-24 Credit in cash               1000       1000      0   \n",
      "           1995-04-13 Collection from another bank 4679       3679      0   \n",
      "           1995-04-23 Credit in cash               17279     12600      0   \n",
      "           1995-05-13 Collection from another bank 20977      3679      0   \n",
      "           1995-05-23 Credit in cash               23077      2100      0   \n",
      "...                                                            ...    ...   \n",
      "11382      1998-11-10 Collection from another bank 66310     30832      0   \n",
      "           1998-11-30 Withdrawal in cash           66714         0      0   \n",
      "           1998-12-02 Withdrawal in cash           41114         0      0   \n",
      "           1998-12-10 Collection from another bank 87362     46248      0   \n",
      "           1998-12-25 Withdrawal in cash           81062         0      0   \n",
      "\n",
      "                                                            Withdrawal  \n",
      "account_id date       operation                    balance              \n",
      "1          1995-03-24 Credit in cash               1000            0.0  \n",
      "           1995-04-13 Collection from another bank 4679            0.0  \n",
      "           1995-04-23 Credit in cash               17279           0.0  \n",
      "           1995-05-13 Collection from another bank 20977           0.0  \n",
      "           1995-05-23 Credit in cash               23077           0.0  \n",
      "...                                                                ...  \n",
      "11382      1998-11-10 Collection from another bank 66310           0.0  \n",
      "           1998-11-30 Withdrawal in cash           66714          15.0  \n",
      "           1998-12-02 Withdrawal in cash           41114       25600.0  \n",
      "           1998-12-10 Collection from another bank 87362           0.0  \n",
      "           1998-12-25 Withdrawal in cash           81062        6300.0  \n",
      "\n",
      "[873134 rows x 3 columns]>\n"
     ]
    }
   ],
   "source": [
    "#drop unwanted columns\n",
    "trans = trans.drop(['account'], axis=1)\n",
    "trans = trans.drop(['bank'], axis=1)\n",
    "#trans['type'].nunique()\n",
    "\n",
    "#change the column name type's values in more understandable name\n",
    "trans_query = pd.read_sql_query(\"SELECT distinct(type) from trans\",conn)\n",
    "#print(trans_query)\n",
    "trans['type'] = trans['type'].replace(['PRIJEM','VYDAJ','VYBER'],['Credit', 'Withdrawal','Debit'])\n",
    "\n",
    "#check the all unique values names\n",
    "trans_opr = pd.read_sql_query(\"SELECT distinct(operation) from trans\",conn)\n",
    "\n",
    "#change the values of operation column\n",
    "trans['operation'] = trans['operation'].replace(['VYBER KARTOU','VKLAD','PREVOD Z UCTU','VYBER','PREVOD NA UCET','None'],['Credit card withdrawal', 'Credit in cash','Collection from another bank','Withdrawal in cash','Remittance to another bank','Other'])\n",
    "\n",
    "trans = trans.drop(['k_symbol'], axis=1)\n",
    "\n",
    "#replace all None values to other\n",
    "trans = trans.replace(['None'], 'Other')\n",
    "\n",
    "#now pivot the table using type column to use values for later visualization\n",
    "trans = trans.pivot_table(index=['account_id','date','operation','balance'],columns='type',values='amount',fill_value=0)\n",
    "trans.columns.name = None\n",
    "trans = trans.reset_index\n",
    "#trans1 = trans.copy()\n",
    "\n",
    "#pivot table using column operation\n",
    "#trans = trans.pivot_table(index=['account_id','date','balance','Credit','Debit'],columns='operation',values='amount',fill_value=0)\n",
    "#trans.columns.name = None\n",
    "#trans = trans.reset_index\n",
    "print(trans)\n"
   ]
  },
  {
   "cell_type": "markdown",
   "metadata": {},
   "source": [
    "#### now find out avg and median so that we can see balance per month and total savings per month"
   ]
  },
  {
   "cell_type": "code",
   "execution_count": 60,
   "metadata": {},
   "outputs": [],
   "source": [
    "t_balance = trans(['account_id', 'date','balance'])\n",
    "#print(t_balance)\n",
    "\n",
    "#Lets split the year from date and get rid of date column\n",
    "t_balance['Year'] = [d.split('-')[0] for d in t_balance.date]\n",
    "#print(t_balance)\n",
    "\n",
    "t_balance = t_balance.drop(['date'], axis=1)"
   ]
  },
  {
   "cell_type": "code",
   "execution_count": 61,
   "metadata": {},
   "outputs": [
    {
     "name": "stdout",
     "output_type": "stream",
     "text": [
      "      account_id  avg_monthly_balance  median_monthly_balance\n",
      "0              1         15794.969072                 15429.0\n",
      "1              2         36552.975490                 36109.5\n",
      "2              3         26633.686869                 24709.0\n",
      "3              4         21678.570513                 21512.0\n",
      "4              5         24812.869565                 26057.0\n",
      "...          ...                  ...                     ...\n",
      "4495       11333         46720.183206                 46209.0\n",
      "4496       11349         50609.429119                 48491.0\n",
      "4497       11359         35665.201835                 31537.0\n",
      "4498       11362         31265.192810                 30109.0\n",
      "4499       11382         36743.296512                 33220.0\n",
      "\n",
      "[4500 rows x 3 columns]\n"
     ]
    }
   ],
   "source": [
    "#final table for checking balance\n",
    "t_balance = t_balance.groupby('account_id', as_index=False).agg({'balance': ['mean','median']})\n",
    "t_balance.columns = ['account_id', 'avg_monthly_balance', 'median_monthly_balance']\n",
    "print(t_balance)"
   ]
  },
  {
   "cell_type": "code",
   "execution_count": 62,
   "metadata": {},
   "outputs": [],
   "source": [
    "t_amount = trans()\n",
    "t_amount = t_amount.drop(['balance'], axis=1)\n",
    "\n",
    "#Lets split the year from date and get rid of date column\n",
    "t_amount['Year'] = [d.split('-')[0] for d in t_amount.date]\n",
    "#print(t_amount)\n",
    "\n",
    "t_amount = t_amount.drop(['date'], axis=1)\n",
    "\n",
    "t_amount = t_amount.sort_values(['account_id', 'Year'], ascending=[True, True])\n"
   ]
  },
  {
   "cell_type": "code",
   "execution_count": 63,
   "metadata": {},
   "outputs": [
    {
     "name": "stdout",
     "output_type": "stream",
     "text": [
      "      account_id         Credit         Debit     Withdrawal\n",
      "0              1   47813.750000      0.000000   45217.500000\n",
      "1              2  264389.333333  36240.333333  222836.166667\n",
      "2              3   85494.500000      0.000000   60984.000000\n",
      "3              4   63200.666667      0.000000   52879.000000\n",
      "4              5   47961.500000      0.000000   34701.000000\n",
      "...          ...            ...           ...            ...\n",
      "4495       11333  332039.000000  80212.600000  243537.700000\n",
      "4496       11349  497059.000000  57344.750000  433079.500000\n",
      "4497       11359  300655.400000   5905.800000  281385.200000\n",
      "4498       11362  170013.750000      0.000000  161438.250000\n",
      "4499       11382  335348.000000  53103.000000  264584.750000\n",
      "\n",
      "[4500 rows x 4 columns]\n"
     ]
    }
   ],
   "source": [
    "t_amount = t_amount.groupby(['account_id', 'Year']).sum().reset_index()\n",
    "t_amount = t_amount.drop(['Year'], axis=1)\n",
    "t_amount = t_amount.groupby(['account_id']).mean().reset_index()\n",
    "print(t_amount)"
   ]
  },
  {
   "cell_type": "code",
   "execution_count": 64,
   "metadata": {},
   "outputs": [
    {
     "name": "stdout",
     "output_type": "stream",
     "text": [
      "      account_id         Credit         Debit     Withdrawal  \\\n",
      "0              1   47813.750000      0.000000   45217.500000   \n",
      "1              2  264389.333333  36240.333333  222836.166667   \n",
      "2              3   85494.500000      0.000000   60984.000000   \n",
      "3              4   63200.666667      0.000000   52879.000000   \n",
      "4              5   47961.500000      0.000000   34701.000000   \n",
      "...          ...            ...           ...            ...   \n",
      "4495       11333  332039.000000  80212.600000  243537.700000   \n",
      "4496       11349  497059.000000  57344.750000  433079.500000   \n",
      "4497       11359  300655.400000   5905.800000  281385.200000   \n",
      "4498       11362  170013.750000      0.000000  161438.250000   \n",
      "4499       11382  335348.000000  53103.000000  264584.750000   \n",
      "\n",
      "      avg_monthly_balance  median_monthly_balance  \n",
      "0            15794.969072                 15429.0  \n",
      "1            36552.975490                 36109.5  \n",
      "2            26633.686869                 24709.0  \n",
      "3            21678.570513                 21512.0  \n",
      "4            24812.869565                 26057.0  \n",
      "...                   ...                     ...  \n",
      "4495         46720.183206                 46209.0  \n",
      "4496         50609.429119                 48491.0  \n",
      "4497         35665.201835                 31537.0  \n",
      "4498         31265.192810                 30109.0  \n",
      "4499         36743.296512                 33220.0  \n",
      "\n",
      "[4500 rows x 6 columns]\n"
     ]
    }
   ],
   "source": [
    "#merge avg balance and amount tables and form only one transaction table\n",
    "trans = pd.merge(t_amount, t_balance, on=['account_id']) \n",
    "print(trans)"
   ]
  },
  {
   "cell_type": "markdown",
   "metadata": {},
   "source": [
    "### Loan table\n",
    "#### transform loan table to see useful informations only. The status values needs to be change."
   ]
  },
  {
   "cell_type": "code",
   "execution_count": 85,
   "metadata": {},
   "outputs": [
    {
     "name": "stdout",
     "output_type": "stream",
     "text": [
      "     loan_id  account_id  amount  duration  payments  \\\n",
      "0       4959           2   80952        24      3373   \n",
      "1       4961          19   30276        12      2523   \n",
      "2       4962          25   30276        12      2523   \n",
      "3       4967          37  318480        60      5308   \n",
      "4       4968          38  110736        48      2307   \n",
      "..       ...         ...     ...       ...       ...   \n",
      "677     7294       11327   39168        24      1632   \n",
      "678     7295       11328  280440        60      4674   \n",
      "679     7304       11349  419880        60      6998   \n",
      "680     7305       11359   54024        12      4502   \n",
      "681     7308       11362  129408        24      5392   \n",
      "\n",
      "                                  status year_granted_loan  \n",
      "0       contract finish without problems              1994  \n",
      "1    contract finished and loan not paid              1996  \n",
      "2       contract finish without problems              1997  \n",
      "3    running contract and client in debt              1998  \n",
      "4             running contract OK so far              1998  \n",
      "..                                   ...               ...  \n",
      "677           running contract OK so far              1998  \n",
      "678           running contract OK so far              1998  \n",
      "679           running contract OK so far              1995  \n",
      "680     contract finish without problems              1996  \n",
      "681     contract finish without problems              1996  \n",
      "\n",
      "[682 rows x 7 columns]\n"
     ]
    }
   ],
   "source": [
    "#print(loan)\n",
    "\n",
    "#change status column values in meaningful words\n",
    "\n",
    "loan['status'] = loan['status'].replace(['A','B','C','D'],['contract finish without problems', 'contract finished and loan not paid','running contract OK so far','running contract and client in debt'])\n",
    "loan['year_granted_loan'] = [d.split('-')[0] for d in loan.date]\n",
    "loan = loan.drop(['date'], axis=1)\n",
    "\n",
    "print(loan)"
   ]
  },
  {
   "cell_type": "markdown",
   "metadata": {},
   "source": [
    "### Credit card data\n",
    "#### Change the Issue date column only in year format. Meaning, grab year from issued column. Later drop the issued column."
   ]
  },
  {
   "cell_type": "code",
   "execution_count": 66,
   "metadata": {},
   "outputs": [
    {
     "name": "stdout",
     "output_type": "stream",
     "text": [
      "     card_id  disp_id     type card_issued_year\n",
      "0          1        9     gold             1998\n",
      "1          2       19  classic             1998\n",
      "2          3       41     gold             1995\n",
      "3          4       42  classic             1998\n",
      "4          5       51   junior             1995\n",
      "..       ...      ...      ...              ...\n",
      "887     1230    13312  classic             1998\n",
      "888     1233    13382  classic             1996\n",
      "889     1234    13386  classic             1997\n",
      "890     1239    13442   junior             1998\n",
      "891     1247    13660  classic             1995\n",
      "\n",
      "[892 rows x 4 columns]\n"
     ]
    },
    {
     "data": {
      "image/png": "[encoded data removed]",
      "text/plain": [
       "<Figure size 432x288 with 1 Axes>"
      ]
     },
     "metadata": {
      "needs_background": "light"
     },
     "output_type": "display_data"
    }
   ],
   "source": [
    "\n",
    "credit_card['card_issued_year'] = [d.split('-')[0] for d in credit_card.issued]\n",
    "\n",
    "#print(credit_card)\n",
    "\n",
    "credit_card = credit_card.drop(['issued'], axis=1)\n",
    "\n",
    "#Lets visualize the type of cards and see what kind of cards people have. We can have basic idea from card type to predict whether it is good customer or bas customer\n",
    "plt.hist(credit_card['type'],10)\n",
    "plt.title('types of credit card used by majority customers')\n",
    "\n",
    "print(credit_card)"
   ]
  },
  {
   "cell_type": "markdown",
   "metadata": {},
   "source": [
    "#### It seems like majority customers has classic type that means this bank has majority of customers having average incomes. Later we will visualize more about which customers using gold, classic and junior cards."
   ]
  },
  {
   "cell_type": "markdown",
   "metadata": {},
   "source": [
    "### Now let's join all tables together and find some insights"
   ]
  },
  {
   "cell_type": "code",
   "execution_count": 86,
   "metadata": {},
   "outputs": [
    {
     "name": "stdout",
     "output_type": "stream",
     "text": [
      "   client_id gender  district_id_x client_birth_year  age  age_grp  disp_id  \\\n",
      "0          1      F             18              1970   29       20        1   \n",
      "1          2      M              1              1945   54       50        2   \n",
      "2          3      F              1              1940   59       50        3   \n",
      "3          4      M              5              1956   43       40        4   \n",
      "4          5      F              5              1960   39       30        5   \n",
      "\n",
      "   account_id     type_x           A2  ...   amount  duration  payments  \\\n",
      "0           1      OWNER        Pisek  ...      NaN       NaN       NaN   \n",
      "1           2      OWNER  Hl.m. Praha  ...  80952.0      24.0    3373.0   \n",
      "2           2  DISPONENT  Hl.m. Praha  ...  80952.0      24.0    3373.0   \n",
      "3           3      OWNER        Kolin  ...      NaN       NaN       NaN   \n",
      "4           3  DISPONENT        Kolin  ...      NaN       NaN       NaN   \n",
      "\n",
      "                             status  year_granted_loan         LEASING  \\\n",
      "0                               NaN                NaN    0.0      0.0   \n",
      "1  contract finish without problems               1994    0.0      0.0   \n",
      "2  contract finish without problems               1994    0.0      0.0   \n",
      "3                               NaN                NaN  327.0      0.0   \n",
      "4                               NaN                NaN  327.0      0.0   \n",
      "\n",
      "   POJISTNE    SIPO    UVER  \n",
      "0       0.0  2452.0     0.0  \n",
      "1       0.0  7266.0  3372.7  \n",
      "2       0.0  7266.0  3372.7  \n",
      "3    3539.0  1135.0     0.0  \n",
      "4    3539.0  1135.0     0.0  \n",
      "\n",
      "[5 rows x 46 columns]\n"
     ]
    }
   ],
   "source": [
    "#we will be joining tables based on their unique keys so that we can not have duplicate records and will use left join grab matching data from one table and grab all data from another table\n",
    "join_client_disp = pd.merge(client, disp, on='client_id', how='left')\n",
    "#print(join_client_disp.head())\n",
    "join_client_demographic = pd.merge(join_client_disp, demographic, on='district_id', how='left')\n",
    "#print(join_client_demographic.head())\n",
    "join_client_card = pd.merge(join_client_demographic, credit_card, on='disp_id', how='left')\n",
    "#print(join_client_card.shape)\n",
    "join_trans_account = pd.merge(account, trans, on='account_id', how='left')\n",
    "#print(join_trans_account.head())\n",
    "join_loan_account = pd.merge(join_trans_account, loan, on='account_id', how='left')\n",
    "#print(join_loan_account.head())\n",
    "join_account_order = pd.merge(join_loan_account, order, on='account_id', how='left')\n",
    "#print(join_account_order.head())\n",
    "master_table = pd.merge(join_client_card, join_account_order, on='account_id', how='left')\n",
    "print(master_table.head())"
   ]
  },
  {
   "cell_type": "code",
   "execution_count": 87,
   "metadata": {},
   "outputs": [
    {
     "name": "stdout",
     "output_type": "stream",
     "text": [
      "Index(['client_id', 'gender', 'district_id_x', 'client_birth_year', 'age',\n",
      "       'age_grp', 'disp_id', 'account_id', 'type_x', 'A2', 'A3', 'A4', 'A5',\n",
      "       'A6', 'A7', 'A8', 'A9', 'A10', 'A11', 'A12', 'A13', 'A14', 'A15', 'A16',\n",
      "       'card_id', 'card_type', 'card_issued_year', 'district_id_y',\n",
      "       'frequency', 'account_created_year', 'Credit', 'Debit', 'Withdrawal',\n",
      "       'avg_monthly_balance', 'median_monthly_balance', 'loan_id', 'amount',\n",
      "       'duration', 'payments', 'status', 'year_granted_loan', '', 'LEASING',\n",
      "       'POJISTNE', 'SIPO', 'UVER'],\n",
      "      dtype='object')\n"
     ]
    }
   ],
   "source": [
    "#transform some columns names\n",
    "master_table = master_table.rename(columns = {'type_y': 'card_type'}, inplace = False)\n",
    "print(master_table.columns)"
   ]
  },
  {
   "cell_type": "code",
   "execution_count": 70,
   "metadata": {},
   "outputs": [
    {
     "data": {
      "image/png": "[encoded data removed]",
      "text/plain": [
       "<Figure size 432x288 with 1 Axes>"
      ]
     },
     "metadata": {
      "needs_background": "light"
     },
     "output_type": "display_data"
    }
   ],
   "source": [
    "# lets check how many card issued every year\n",
    "cc = master_table.groupby('card_issued_year')['client_id'].agg('count')\n",
    "cc.plot.line()\n",
    "plt.ylabel('no of card issued')\n",
    "plt.show()\n",
    "\n",
    "#accouding to the visual issuence of card is increasing every year"
   ]
  },
  {
   "cell_type": "code",
   "execution_count": 71,
   "metadata": {},
   "outputs": [
    {
     "name": "stdout",
     "output_type": "stream",
     "text": [
      "0                                    NaN\n",
      "1       contract finish without problems\n",
      "2       contract finish without problems\n",
      "3                                    NaN\n",
      "4                                    NaN\n",
      "                      ...               \n",
      "5364          running contract OK so far\n",
      "5365          running contract OK so far\n",
      "5366    contract finish without problems\n",
      "5367    contract finish without problems\n",
      "5368                                 NaN\n",
      "Name: status, Length: 5369, dtype: object\n"
     ]
    }
   ],
   "source": [
    "master_table['status'].replace(['NaN'], ['NA'], inplace=True)\n",
    "master_table['card_type'].replace([0],['NA'], inplace=True )\n",
    "\n",
    "print(master_table.status)"
   ]
  },
  {
   "cell_type": "code",
   "execution_count": 73,
   "metadata": {},
   "outputs": [
    {
     "data": {
      "image/png": "[encoded data removed]",
      "text/plain": [
       "<Figure size 432x288 with 1 Axes>"
      ]
     },
     "metadata": {
      "needs_background": "light"
     },
     "output_type": "display_data"
    },
    {
     "name": "stdout",
     "output_type": "stream",
     "text": [
      "age_grp\n",
      "10     21\n",
      "20    176\n",
      "30    188\n",
      "40    186\n",
      "50    190\n",
      "60     66\n",
      "Name: status, dtype: int64\n"
     ]
    }
   ],
   "source": [
    "# lets see abount who is asking for loan frequently\n",
    "\n",
    "ln = master_table[master_table['status'].notna()]\n",
    "ln_1 = ln.groupby('age_grp')['status'].agg('count')\n",
    "ln_1.plot.bar()\n",
    "plt.ylabel('frequently asked loan')\n",
    "plt.show()\n",
    "print(ln_1)\n",
    "#print(ln.status)\n"
   ]
  },
  {
   "cell_type": "markdown",
   "metadata": {},
   "source": [
    "#### According to the visual, middle age group(arount 50) people ask for loan more frequently or maximum times."
   ]
  },
  {
   "cell_type": "code",
   "execution_count": 80,
   "metadata": {},
   "outputs": [
    {
     "data": {
      "text/plain": [
       "<Figure size 1440x720 with 0 Axes>"
      ]
     },
     "metadata": {},
     "output_type": "display_data"
    },
    {
     "data": {
      "image/png": "[encoded data removed]",
      "text/plain": [
       "<Figure size 432x288 with 1 Axes>"
      ]
     },
     "metadata": {
      "needs_background": "light"
     },
     "output_type": "display_data"
    }
   ],
   "source": [
    "# lets check the loan status of this group of people who asked loan for the most.\n",
    "\n",
    "v1 = pd.pivot_table(ln, values='client_id', index='age_grp', columns = 'status', aggfunc = 'count', fill_value=0)\n",
    "plt.figure(figsize = (20,10))\n",
    "v1.plot.bar()\n",
    "plt.show()\n",
    "#print(v1)"
   ]
  },
  {
   "cell_type": "markdown",
   "metadata": {},
   "source": [
    "#### Now it seems like people who asking for loan frequently are not paying back within contract period or age group between 40 to 50 are not paying back on time compare to juniors and seniors. Not sure if certain age is an impact"
   ]
  },
  {
   "cell_type": "code",
   "execution_count": 83,
   "metadata": {},
   "outputs": [
    {
     "data": {
      "image/png": "[encoded data removed]",
      "text/plain": [
       "<Figure size 432x288 with 1 Axes>"
      ]
     },
     "metadata": {
      "needs_background": "light"
     },
     "output_type": "display_data"
    }
   ],
   "source": [
    "# lets check the average monthly balance of perticular card type\n",
    "cl = master_table[master_table['card_type'].notna()]\n",
    "cl1 = cl.groupby('card_type')['avg_monthly_balance'].agg('mean')\n",
    "cl1.plot.bar()\n",
    "plt.ylabel('avg balance')\n",
    "plt.show()\n"
   ]
  },
  {
   "cell_type": "markdown",
   "metadata": {},
   "source": [
    "#### Now here, gold card holder has maximum balance comapre to classic and junior holder. whereas, the gold card holder are very few according to the previous visual."
   ]
  },
  {
   "cell_type": "code",
   "execution_count": 91,
   "metadata": {},
   "outputs": [
    {
     "data": {
      "image/png": "[encoded data removed]",
      "text/plain": [
       "<Figure size 432x288 with 1 Axes>"
      ]
     },
     "metadata": {
      "needs_background": "light"
     },
     "output_type": "display_data"
    },
    {
     "name": "stdout",
     "output_type": "stream",
     "text": [
      "year_granted_loan\n",
      "1993    124047.272727\n",
      "1994    129821.568000\n",
      "1995    154045.527273\n",
      "1996    161109.863014\n",
      "1997    153602.820513\n",
      "1998    158805.410526\n",
      "Name: amount, dtype: float64\n"
     ]
    }
   ],
   "source": [
    "# lets see in which year bank granted maximum amount of loan\n",
    "pp = master_table[master_table['year_granted_loan'].notna()]\n",
    "pp1 = pp.groupby('year_granted_loan')['amount'].agg('mean')\n",
    "pp1.plot.bar()\n",
    "plt.ylabel('avg amount asked')\n",
    "plt.show()\n",
    "print(pp1)"
   ]
  },
  {
   "cell_type": "markdown",
   "metadata": {},
   "source": [
    "#### It seems like during 1996 bank granted maximum amount of loan"
   ]
  },
  {
   "cell_type": "code",
   "execution_count": null,
   "metadata": {},
   "outputs": [],
   "source": []
  }
 ],
 "metadata": {
  "kernelspec": {
   "display_name": "Python 3",
   "language": "python",
   "name": "python3"
  },
  "language_info": {
   "codemirror_mode": {
    "name": "ipython",
    "version": 3
   },
   "file_extension": ".py",
   "mimetype": "text/x-python",
   "name": "python",
   "nbconvert_exporter": "python",
   "pygments_lexer": "ipython3",
   "version": "3.8.3"
  }
 },
 "nbformat": 4,
 "nbformat_minor": 4
}
