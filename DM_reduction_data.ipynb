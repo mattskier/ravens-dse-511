{
 "cells": [
  {
   "cell_type": "code",
   "execution_count": 1,
   "metadata": {},
   "outputs": [],
   "source": [
    "import numpy as np\n",
    "import pandas as pd\n",
    "\n",
    "import matplotlib as mpl\n",
    "import matplotlib.pyplot as plt \n",
    "\n",
    "from sklearn.decomposition import PCA\n",
    "from sklearn.preprocessing import LabelEncoder, StandardScaler\n",
    "# User-defined modules\n",
    "from financial_data import *"
   ]
  },
  {
   "cell_type": "code",
   "execution_count": 30,
   "metadata": {},
   "outputs": [
    {
     "name": "stdout",
     "output_type": "stream",
     "text": [
      "   loan_date  loan_amount  duration  payments status frequency account_date  \\\n",
      "0 1994-01-05     0.129680      0.25  0.319488      A   monthly   1993-02-26   \n",
      "1 1996-04-29     0.043179      0.00  0.231001      B   monthly   1995-04-07   \n",
      "2 1997-12-08     0.043179      0.00  0.231001      A   monthly   1996-07-28   \n",
      "3 1998-10-14     0.535129      1.00  0.520924      D   monthly   1997-08-18   \n",
      "4 1998-04-19     0.180520      0.75  0.208516      C    weekly   1997-08-08   \n",
      "\n",
      "   clients  num_cards card_issued  ...  \\\n",
      "0        2          0  1900-01-01  ...   \n",
      "1        1          0  1900-01-01  ...   \n",
      "2        1          0  1900-01-01  ...   \n",
      "3        1          0  1900-01-01  ...   \n",
      "4        1          0  1900-01-01  ...   \n",
      "\n",
      "  no_of_municipalities_with_inhabitants_between_1000_to_9999  \\\n",
      "0                                               0.00           \n",
      "1                                               0.35           \n",
      "2                                               0.90           \n",
      "3                                               0.15           \n",
      "4                                               0.15           \n",
      "\n",
      "  no_of_municipalities_with_inhabitants_greater_than_10000  no_of_cities  \\\n",
      "0                                                0.2                 0.0   \n",
      "1                                                0.2                 0.6   \n",
      "2                                                0.4                 0.5   \n",
      "3                                                0.2                 0.3   \n",
      "4                                                0.2                 0.3   \n",
      "\n",
      "   ratio_of_urban_inhabitants  average_salary  unemployment_rate_95  \\\n",
      "0                    1.000000        1.000000              0.000000   \n",
      "1                    0.500756        0.224329              0.183099   \n",
      "2                    0.352496        0.402392              0.535211   \n",
      "3                    0.370651        0.098623              0.338028   \n",
      "4                    0.284418        0.065899              0.408451   \n",
      "\n",
      "   unemployment_rate_96  no_of_enterpreneurs_per_1000_inhabitants  \\\n",
      "0              0.000000                                  1.000000   \n",
      "1              0.182832                                  0.488372   \n",
      "2              0.478261                                  0.174419   \n",
      "3              0.357860                                  0.453488   \n",
      "4              0.395764                                  0.453488   \n",
      "\n",
      "  no_of_commited_crimes_95 no_of_commited_crimes_96  \n",
      "0                 1.000000                 1.000000  \n",
      "1                 0.017452                 0.014926  \n",
      "2                 0.056623                 0.050896  \n",
      "3                 0.008779                 0.006659  \n",
      "4                 0.002133                 0.002148  \n",
      "\n",
      "[5 rows x 33 columns]\n"
     ]
    }
   ],
   "source": [
    "comb = load_combined()\n",
    "print(comb.head())"
   ]
  },
  {
   "cell_type": "code",
   "execution_count": 31,
   "metadata": {},
   "outputs": [],
   "source": [
    "# ML systems work with integers, we need to encode these string characters into ints\n",
    "encoder = LabelEncoder()\n",
    "\n",
    "#now apply transformation to all the columns:\n",
    "\n",
    "for col in comb.columns:\n",
    "    comb[col] = encoder.fit_transform(comb[col])\n",
    "    \n",
    "X_features = comb.iloc[:, comb.columns != 'status']\n",
    "y_label = comb.status\n",
    "\n"
   ]
  },
  {
   "cell_type": "code",
   "execution_count": 32,
   "metadata": {},
   "outputs": [
    {
     "name": "stdout",
     "output_type": "stream",
     "text": [
      "(545, 32)\n"
     ]
    }
   ],
   "source": [
    "from sklearn.model_selection import train_test_split\n",
    "X_train, X_test, y_train, y_test = train_test_split(X_features, y_label, test_size=0.2, random_state=0)\n",
    "print(X_train.shape)"
   ]
  },
  {
   "cell_type": "code",
   "execution_count": 33,
   "metadata": {},
   "outputs": [],
   "source": [
    "#scale the features\n",
    "\n",
    "scaler = StandardScaler()\n",
    "X_train = scaler.fit_transform(X_train)\n",
    "X_test = scaler.transform(X_test)\n",
    "\n",
    "#X_test = pca.transform(X_test)\n"
   ]
  },
  {
   "cell_type": "code",
   "execution_count": 34,
   "metadata": {},
   "outputs": [
    {
     "data": {
      "image/png": "[encoded data removed]",
      "text/plain": [
       "<Figure size 576x432 with 1 Axes>"
      ]
     },
     "metadata": {
      "needs_background": "light"
     },
     "output_type": "display_data"
    }
   ],
   "source": [
    "# visualize the varience to know how many components needs to be keep\n",
    "\n",
    "pca = PCA()\n",
    "X_train = pca.fit_transform(X_train)\n",
    "X_test = pca.transform(X_test)\n",
    "pca_variance = pca.explained_variance_   \n",
    "\n",
    "plt.figure(figsize=(8,6))\n",
    "plt.bar(range(32), pca_variance, alpha=0.5, align='center', label='Individual variance')\n",
    "plt.legend()\n",
    "plt.ylabel('variance ratio')\n",
    "plt.xlabel('Principal Components')\n",
    "plt.show()"
   ]
  },
  {
   "cell_type": "markdown",
   "metadata": {},
   "source": [
    "#### According to this varience figure, it seems like we can keep about 22 components."
   ]
  },
  {
   "cell_type": "code",
   "execution_count": 35,
   "metadata": {},
   "outputs": [],
   "source": [
    "#keep 22 components and try to evaluate performance\n",
    "pca = PCA(n_components=22)\n",
    "X_train = pca.fit_transform(X_train)\n",
    "X_test = pca.transform(X_test)"
   ]
  },
  {
   "cell_type": "markdown",
   "metadata": {},
   "source": [
    "#### apply random forest on 22 components"
   ]
  },
  {
   "cell_type": "code",
   "execution_count": 36,
   "metadata": {},
   "outputs": [],
   "source": [
    "from sklearn.ensemble import RandomForestClassifier\n",
    "\n",
    "rf_classifier = RandomForestClassifier(max_depth=3, random_state=0)\n",
    "rf_classifier.fit(X_train, y_train)\n",
    "\n",
    "# Predicting the Test set results\n",
    "y_pred = rf_classifier.predict(X_test)"
   ]
  },
  {
   "cell_type": "markdown",
   "metadata": {},
   "source": [
    "#### performance evaluation for 22 components"
   ]
  },
  {
   "cell_type": "code",
   "execution_count": 37,
   "metadata": {},
   "outputs": [
    {
     "name": "stdout",
     "output_type": "stream",
     "text": [
      "[[16  0 12  0]\n",
      " [ 4  0  4  0]\n",
      " [ 3  0 92  0]\n",
      " [ 0  0  6  0]]\n",
      "0.7883211678832117\n"
     ]
    }
   ],
   "source": [
    "from sklearn.metrics import confusion_matrix\n",
    "from sklearn.metrics import accuracy_score\n",
    "\n",
    "cm = confusion_matrix(y_test, y_pred)\n",
    "print(cm)\n",
    "print(accuracy_score(y_test, y_pred))"
   ]
  },
  {
   "cell_type": "markdown",
   "metadata": {},
   "source": [
    "#### keep 15 components and evaluate performance with same model"
   ]
  },
  {
   "cell_type": "code",
   "execution_count": 38,
   "metadata": {},
   "outputs": [],
   "source": [
    "# Let's try to use 15 principal component to train our algorithm. To do so, execute the following code:\n",
    "\n",
    "from sklearn.decomposition import PCA\n",
    "\n",
    "pca = PCA(n_components=15)\n",
    "X_train = pca.fit_transform(X_train)\n",
    "X_test = pca.transform(X_test)\n",
    "\n",
    "#print(X_test)"
   ]
  },
  {
   "cell_type": "markdown",
   "metadata": {},
   "source": [
    "#### now let's apply random forest classification to make predictions"
   ]
  },
  {
   "cell_type": "code",
   "execution_count": 39,
   "metadata": {},
   "outputs": [],
   "source": [
    "from sklearn.ensemble import RandomForestClassifier\n",
    "\n",
    "rf_classifier = RandomForestClassifier(max_depth=3, random_state=0)\n",
    "rf_classifier.fit(X_train, y_train)\n",
    "\n",
    "# Predicting the Test set results\n",
    "y_pred = rf_classifier.predict(X_test)\n"
   ]
  },
  {
   "cell_type": "markdown",
   "metadata": {},
   "source": [
    "#### Let's do performance evaluation"
   ]
  },
  {
   "cell_type": "code",
   "execution_count": 40,
   "metadata": {},
   "outputs": [
    {
     "name": "stdout",
     "output_type": "stream",
     "text": [
      "[[18  0 10  0]\n",
      " [ 4  0  4  0]\n",
      " [ 4  0 91  0]\n",
      " [ 0  0  6  0]]\n",
      "0.7956204379562044\n"
     ]
    }
   ],
   "source": [
    "from sklearn.metrics import confusion_matrix\n",
    "from sklearn.metrics import accuracy_score\n",
    "\n",
    "cm = confusion_matrix(y_test, y_pred)\n",
    "print(cm)\n",
    "print(accuracy_score(y_test, y_pred))"
   ]
  },
  {
   "cell_type": "markdown",
   "metadata": {},
   "source": [
    "#### keep 10 components and evaluate performance with same model"
   ]
  },
  {
   "cell_type": "code",
   "execution_count": 41,
   "metadata": {},
   "outputs": [],
   "source": [
    "pca = PCA(n_components=10)\n",
    "X_train = pca.fit_transform(X_train)\n",
    "X_test = pca.transform(X_test)"
   ]
  },
  {
   "cell_type": "code",
   "execution_count": 42,
   "metadata": {},
   "outputs": [
    {
     "name": "stdout",
     "output_type": "stream",
     "text": [
      "[[18  0 10  0]\n",
      " [ 5  0  3  0]\n",
      " [ 6  0 89  0]\n",
      " [ 0  0  6  0]]\n",
      "0.781021897810219\n"
     ]
    }
   ],
   "source": [
    "rf_classifier = RandomForestClassifier(max_depth=3, random_state=0)\n",
    "rf_classifier.fit(X_train, y_train)\n",
    "\n",
    "# Predicting the Test set results\n",
    "y_pred = rf_classifier.predict(X_test)\n",
    "\n",
    "cm = confusion_matrix(y_test, y_pred)\n",
    "print(cm)\n",
    "print(accuracy_score(y_test, y_pred))"
   ]
  },
  {
   "cell_type": "markdown",
   "metadata": {},
   "source": [
    "#### keep 5 components and evaluate performance with same model"
   ]
  },
  {
   "cell_type": "code",
   "execution_count": 43,
   "metadata": {},
   "outputs": [],
   "source": [
    "pca = PCA(n_components=5)\n",
    "X_train = pca.fit_transform(X_train)\n",
    "X_test = pca.transform(X_test)"
   ]
  },
  {
   "cell_type": "code",
   "execution_count": 44,
   "metadata": {},
   "outputs": [
    {
     "name": "stdout",
     "output_type": "stream",
     "text": [
      "[[17  0 11  0]\n",
      " [ 4  0  4  0]\n",
      " [17  0 78  0]\n",
      " [ 2  0  4  0]]\n",
      "0.6934306569343066\n"
     ]
    }
   ],
   "source": [
    "rf_classifier = RandomForestClassifier(max_depth=3, random_state=0)\n",
    "rf_classifier.fit(X_train, y_train)\n",
    "\n",
    "# Predicting the Test set results\n",
    "y_pred = rf_classifier.predict(X_test)\n",
    "\n",
    "cm = confusion_matrix(y_test, y_pred)\n",
    "print(cm)\n",
    "print(accuracy_score(y_test, y_pred))"
   ]
  },
  {
   "cell_type": "markdown",
   "metadata": {},
   "source": [
    "#### keep 1 components and evaluate performance with same model"
   ]
  },
  {
   "cell_type": "code",
   "execution_count": 45,
   "metadata": {},
   "outputs": [],
   "source": [
    "pca = PCA(n_components=1)\n",
    "X_train = pca.fit_transform(X_train)\n",
    "X_test = pca.transform(X_test)"
   ]
  },
  {
   "cell_type": "code",
   "execution_count": 46,
   "metadata": {},
   "outputs": [
    {
     "name": "stdout",
     "output_type": "stream",
     "text": [
      "[[ 2  0 26  0]\n",
      " [ 1  0  7  0]\n",
      " [ 2  0 93  0]\n",
      " [ 1  0  5  0]]\n",
      "0.6934306569343066\n"
     ]
    }
   ],
   "source": [
    "rf_classifier = RandomForestClassifier(max_depth=3, random_state=0)\n",
    "rf_classifier.fit(X_train, y_train)\n",
    "\n",
    "# Predicting the Test set results\n",
    "y_pred = rf_classifier.predict(X_test)\n",
    "\n",
    "cm = confusion_matrix(y_test, y_pred)\n",
    "print(cm)\n",
    "print(accuracy_score(y_test, y_pred))"
   ]
  },
  {
   "cell_type": "code",
   "execution_count": null,
   "metadata": {},
   "outputs": [],
   "source": []
  }
 ],
 "metadata": {
  "kernelspec": {
   "display_name": "Python 3",
   "language": "python",
   "name": "python3"
  },
  "language_info": {
   "codemirror_mode": {
    "name": "ipython",
    "version": 3
   },
   "file_extension": ".py",
   "mimetype": "text/x-python",
   "name": "python",
   "nbconvert_exporter": "python",
   "pygments_lexer": "ipython3",
   "version": "3.7.3"
  }
 },
 "nbformat": 4,
 "nbformat_minor": 4
}
