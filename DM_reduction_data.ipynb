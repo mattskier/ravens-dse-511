{
 "cells": [
  {
   "cell_type": "code",
   "execution_count": 5,
   "metadata": {},
   "outputs": [],
   "source": [
    "import numpy as np\n",
    "import pandas as pd\n",
    "\n",
    "import matplotlib as mpl\n",
    "import matplotlib.pyplot as plt \n",
    "\n",
    "from sklearn.decomposition import PCA\n",
    "from sklearn.preprocessing import LabelEncoder, StandardScaler\n",
    "# User-defined modules\n",
    "from financial_data import *"
   ]
  },
  {
   "cell_type": "code",
   "execution_count": 2,
   "metadata": {},
   "outputs": [
    {
     "name": "stdout",
     "output_type": "stream",
     "text": [
      "   loan_id  account_id  loan_date  loan_amount  duration  payments status  \\\n",
      "0     4959           2 1994-01-05     0.129680      0.25  0.319488      A   \n",
      "1     4961          19 1996-04-29     0.043179      0.00  0.231001      B   \n",
      "2     4962          25 1997-12-08     0.043179      0.00  0.231001      A   \n",
      "3     4967          37 1998-10-14     0.535129      1.00  0.520924      D   \n",
      "4     4968          38 1998-04-19     0.180520      0.75  0.208516      C   \n",
      "\n",
      "   district_id frequency account_date  ...  \\\n",
      "0            1   monthly   1993-02-26  ...   \n",
      "1           21   monthly   1995-04-07  ...   \n",
      "2           68   monthly   1996-07-28  ...   \n",
      "3           20   monthly   1997-08-18  ...   \n",
      "4           19    weekly   1997-08-08  ...   \n",
      "\n",
      "   no_of_municipalities_with_inhabitants_between_1000_to_9999  \\\n",
      "0                                               0.00            \n",
      "1                                               0.35            \n",
      "2                                               0.90            \n",
      "3                                               0.15            \n",
      "4                                               0.15            \n",
      "\n",
      "   no_of_municipalities_with_inhabitants_greater_than_10000 no_of_cities  \\\n",
      "0                                                0.2                 0.0   \n",
      "1                                                0.2                 0.6   \n",
      "2                                                0.4                 0.5   \n",
      "3                                                0.2                 0.3   \n",
      "4                                                0.2                 0.3   \n",
      "\n",
      "  ratio_of_urban_inhabitants average_salary  unemployment_rate_95  \\\n",
      "0                   1.000000       1.000000              0.000000   \n",
      "1                   0.500756       0.224329              0.183099   \n",
      "2                   0.352496       0.402392              0.535211   \n",
      "3                   0.370651       0.098623              0.338028   \n",
      "4                   0.284418       0.065899              0.408451   \n",
      "\n",
      "   unemployment_rate_96  no_of_enterpreneurs_per_1000_inhabitants  \\\n",
      "0              0.000000                                  1.000000   \n",
      "1              0.182832                                  0.488372   \n",
      "2              0.478261                                  0.174419   \n",
      "3              0.357860                                  0.453488   \n",
      "4              0.395764                                  0.453488   \n",
      "\n",
      "   no_of_commited_crimes_95  no_of_commited_crimes_96  \n",
      "0                  1.000000                  1.000000  \n",
      "1                  0.017452                  0.014926  \n",
      "2                  0.056623                  0.050896  \n",
      "3                  0.008779                  0.006659  \n",
      "4                  0.002133                  0.002148  \n",
      "\n",
      "[5 rows x 36 columns]\n"
     ]
    }
   ],
   "source": [
    "comb = load_combined()\n",
    "print(comb.head())"
   ]
  },
  {
   "cell_type": "code",
   "execution_count": 7,
   "metadata": {},
   "outputs": [],
   "source": [
    "# ML systems work with integers, we need to encode these string characters into ints\n",
    "encoder = LabelEncoder()\n",
    "\n",
    "#now apply transformation to all the columns:\n",
    "\n",
    "for col in comb.columns:\n",
    "    comb[col] = encoder.fit_transform(comb[col])\n",
    "    \n",
    "X_features = comb.iloc[:,1:36]\n",
    "y_label = comb.iloc[:,0]"
   ]
  },
  {
   "cell_type": "code",
   "execution_count": 9,
   "metadata": {},
   "outputs": [
    {
     "name": "stdout",
     "output_type": "stream",
     "text": [
      "0    0\n",
      "1    1\n",
      "2    2\n",
      "3    3\n",
      "4    4\n",
      "Name: loan_id, dtype: int64\n"
     ]
    }
   ],
   "source": [
    "print(y_label.head())"
   ]
  },
  {
   "cell_type": "code",
   "execution_count": 10,
   "metadata": {},
   "outputs": [],
   "source": [
    "#scale the features\n",
    "\n",
    "scaler = StandardScaler()\n",
    "X_features = scaler.fit_transform(X_features)"
   ]
  },
  {
   "cell_type": "code",
   "execution_count": 15,
   "metadata": {},
   "outputs": [
    {
     "data": {
      "image/png": "[encoded data removed]",
      "text/plain": [
       "<Figure size 576x432 with 1 Axes>"
      ]
     },
     "metadata": {
      "needs_background": "light"
     },
     "output_type": "display_data"
    }
   ],
   "source": [
    "# visualize\n",
    "\n",
    "pca = PCA()\n",
    "pca.fit_transform(X_features)\n",
    "pca_variance = pca.explained_variance_\n",
    "\n",
    "plt.figure(figsize=(8,6))\n",
    "plt.bar(range(35), pca_variance, alpha=0.5, align='center', label='Individual variance')\n",
    "plt.legend()\n",
    "plt.ylabel('variance ratio')\n",
    "plt.xlabel('Principal Components')\n",
    "plt.show()"
   ]
  },
  {
   "cell_type": "code",
   "execution_count": null,
   "metadata": {},
   "outputs": [],
   "source": []
  }
 ],
 "metadata": {
  "kernelspec": {
   "display_name": "Python 3",
   "language": "python",
   "name": "python3"
  },
  "language_info": {
   "codemirror_mode": {
    "name": "ipython",
    "version": 3
   },
   "file_extension": ".py",
   "mimetype": "text/x-python",
   "name": "python",
   "nbconvert_exporter": "python",
   "pygments_lexer": "ipython3",
   "version": "3.7.3"
  }
 },
 "nbformat": 4,
 "nbformat_minor": 4
}
