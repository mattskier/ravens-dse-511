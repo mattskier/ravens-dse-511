{
 "cells": [
  {
   "cell_type": "code",
   "execution_count": 1,
   "metadata": {},
   "outputs": [],
   "source": [
    "import pandas as pd\n",
    "import sqlite3\n",
    "import matplotlib.pyplot as plt\n",
    "%matplotlib inline"
   ]
  },
  {
   "cell_type": "markdown",
   "metadata": {},
   "source": [
    "## Individual Project: Financial Database\n",
    "This assignment provides us a database and asks us to explore the database and relates within it.  We are asked to explore the tables within the database, determine the information that is available, how it might relate to other information, and some hypothesis testing that may occur late"
   ]
  },
  {
   "cell_type": "code",
   "execution_count": 2,
   "metadata": {},
   "outputs": [],
   "source": [
    "#These lines of codes import the database and creates a cursor\n",
    "conn = sqlite3.connect('financial.db')\n",
    "c = conn.cursor()"
   ]
  },
  {
   "cell_type": "code",
   "execution_count": 3,
   "metadata": {},
   "outputs": [
    {
     "name": "stdout",
     "output_type": "stream",
     "text": [
      "[('account',), ('card',), ('client',), ('disp',), ('district',), ('loan',), ('order',), ('trans',)]\n"
     ]
    }
   ],
   "source": [
    "table_names = c.execute(\"SELECT name FROM sqlite_master WHERE type='table';\").fetchall()\n",
    "print(table_names)"
   ]
  },
  {
   "cell_type": "markdown",
   "metadata": {},
   "source": [
    "We can see that there are eight tables within the database inthe names given above.  We will explore each table individually and how it is realated to the other tables in this database."
   ]
  },
  {
   "cell_type": "markdown",
   "metadata": {},
   "source": [
    "### Account Table"
   ]
  },
  {
   "cell_type": "code",
   "execution_count": 4,
   "metadata": {
    "scrolled": true
   },
   "outputs": [
    {
     "data": {
      "text/plain": [
       "[(0, 'account_id', 'integer', 1, '0', 1),\n",
       " (1, 'district_id', 'integer', 1, '0', 0),\n",
       " (2, 'frequency', 'varchar(18)', 1, None, 0),\n",
       " (3, 'date', 'date', 1, None, 0)]"
      ]
     },
     "execution_count": 4,
     "metadata": {},
     "output_type": "execute_result"
    }
   ],
   "source": [
    "c.execute(\"PRAGMA table_info(account);\").fetchall() #shows the table info"
   ]
  },
  {
   "cell_type": "code",
   "execution_count": 5,
   "metadata": {},
   "outputs": [
    {
     "data": {
      "text/plain": [
       "[(1, 18, 'POPLATEK MESICNE', '1995-03-24'),\n",
       " (2, 1, 'POPLATEK MESICNE', '1993-02-26'),\n",
       " (3, 5, 'POPLATEK MESICNE', '1997-07-07'),\n",
       " (4, 12, 'POPLATEK MESICNE', '1996-02-21'),\n",
       " (5, 15, 'POPLATEK MESICNE', '1997-05-30')]"
      ]
     },
     "execution_count": 5,
     "metadata": {},
     "output_type": "execute_result"
    }
   ],
   "source": [
    "c.execute(\"SELECT * FROM account LIMIT 5;\").fetchall() #shows the first 5 values of the table"
   ]
  },
  {
   "cell_type": "code",
   "execution_count": 6,
   "metadata": {},
   "outputs": [
    {
     "data": {
      "text/plain": [
       "[(4500,)]"
      ]
     },
     "execution_count": 6,
     "metadata": {},
     "output_type": "execute_result"
    }
   ],
   "source": [
    "c.execute(\"SELECT COUNT(*) FROM account;\").fetchall()"
   ]
  },
  {
   "cell_type": "code",
   "execution_count": 7,
   "metadata": {},
   "outputs": [
    {
     "data": {
      "text/plain": [
       "[(4167,)]"
      ]
     },
     "execution_count": 7,
     "metadata": {},
     "output_type": "execute_result"
    }
   ],
   "source": [
    "c.execute(\"SELECT COUNT(*) FROM account WHERE frequency = 'POPLATEK MESICNE';\").fetchall()"
   ]
  },
  {
   "cell_type": "code",
   "execution_count": 8,
   "metadata": {},
   "outputs": [
    {
     "data": {
      "text/plain": [
       "[(18, 43, 'POPLATEK TYDNE', '1993-05-26'),\n",
       " (34, 67, 'POPLATEK TYDNE', '1993-09-17'),\n",
       " (38, 19, 'POPLATEK TYDNE', '1997-08-08'),\n",
       " (66, 48, 'POPLATEK PO OBRATU', '1993-12-03'),\n",
       " (68, 37, 'POPLATEK PO OBRATU', '1994-12-20'),\n",
       " (72, 1, 'POPLATEK TYDNE', '1996-06-20'),\n",
       " (84, 44, 'POPLATEK PO OBRATU', '1995-12-25'),\n",
       " (120, 65, 'POPLATEK TYDNE', '1995-06-16'),\n",
       " (125, 2, 'POPLATEK PO OBRATU', '1996-09-07'),\n",
       " (132, 40, 'POPLATEK PO OBRATU', '1996-05-11')]"
      ]
     },
     "execution_count": 8,
     "metadata": {},
     "output_type": "execute_result"
    }
   ],
   "source": [
    "c.execute(\"SELECT * FROM account WHERE frequency <> 'POPLATEK MESICNE' LIMIT 10;\").fetchall() #<> is a not equal to function"
   ]
  },
  {
   "cell_type": "code",
   "execution_count": 9,
   "metadata": {},
   "outputs": [],
   "source": [
    "frequencies = c.execute(\"SELECT frequency FROM account\").fetchall()"
   ]
  },
  {
   "cell_type": "code",
   "execution_count": 10,
   "metadata": {
    "scrolled": true
   },
   "outputs": [
    {
     "data": {
      "image/png": "[encoded data removed]",
      "text/plain": [
       "<Figure size 432x288 with 1 Axes>"
      ]
     },
     "metadata": {
      "needs_background": "light"
     },
     "output_type": "display_data"
    }
   ],
   "source": [
    "plt.hist([i[0] for i in frequencies])  #this is because the list comes in 1d tuples\n",
    "plt.show()"
   ]
  },
  {
   "cell_type": "markdown",
   "metadata": {},
   "source": [
    "We can see that the account table is ordered in numerical order with 3 other columns.  There are 4500 accounts in the database, We are also given a district id, an a frequency which correlates to statement issuance, and the state date.  In the above histogram (that shows bar heights proportional to the number of values with a certain frequency) we can see that the vast majority of \"POPLATEK MESCINE\" which noting the documenation means statements are issued monthly.  There are much fewer issued weekly or after a transaction).  The next table we will analyze is the district table as it can be related to the account table via the second column.\n",
    "\n",
    "### District Table"
   ]
  },
  {
   "cell_type": "code",
   "execution_count": 11,
   "metadata": {},
   "outputs": [
    {
     "data": {
      "text/plain": [
       "[(0, 'district_id', 'integer', 1, '0', 1),\n",
       " (1, 'A2', 'varchar(19)', 1, None, 0),\n",
       " (2, 'A3', 'varchar(15)', 1, None, 0),\n",
       " (3, 'A4', 'integer', 1, None, 0),\n",
       " (4, 'A5', 'integer', 1, None, 0),\n",
       " (5, 'A6', 'integer', 1, None, 0),\n",
       " (6, 'A7', 'integer', 1, None, 0),\n",
       " (7, 'A8', 'integer', 1, None, 0),\n",
       " (8, 'A9', 'integer', 1, None, 0),\n",
       " (9, 'A10', 'decimal(4,1)', 1, None, 0),\n",
       " (10, 'A11', 'integer', 1, None, 0),\n",
       " (11, 'A12', 'decimal(4,1)', 0, 'NULL', 0),\n",
       " (12, 'A13', 'decimal(3,2)', 1, None, 0),\n",
       " (13, 'A14', 'integer', 1, None, 0),\n",
       " (14, 'A15', 'integer', 0, 'NULL', 0),\n",
       " (15, 'A16', 'integer', 1, None, 0)]"
      ]
     },
     "execution_count": 11,
     "metadata": {},
     "output_type": "execute_result"
    }
   ],
   "source": [
    "c.execute(\"PRAGMA table_info(district);\").fetchall()"
   ]
  },
  {
   "cell_type": "code",
   "execution_count": 12,
   "metadata": {},
   "outputs": [
    {
     "data": {
      "text/plain": [
       "[(1,\n",
       "  'Hl.m. Praha',\n",
       "  'Prague',\n",
       "  1204953,\n",
       "  0,\n",
       "  0,\n",
       "  0,\n",
       "  1,\n",
       "  1,\n",
       "  100,\n",
       "  12541,\n",
       "  0.2,\n",
       "  0.43,\n",
       "  167,\n",
       "  85677,\n",
       "  99107),\n",
       " (2,\n",
       "  'Benesov',\n",
       "  'central Bohemia',\n",
       "  88884,\n",
       "  80,\n",
       "  26,\n",
       "  6,\n",
       "  2,\n",
       "  5,\n",
       "  46.7,\n",
       "  8507,\n",
       "  1.6,\n",
       "  1.85,\n",
       "  132,\n",
       "  2159,\n",
       "  2674),\n",
       " (3,\n",
       "  'Beroun',\n",
       "  'central Bohemia',\n",
       "  75232,\n",
       "  55,\n",
       "  26,\n",
       "  4,\n",
       "  1,\n",
       "  5,\n",
       "  41.7,\n",
       "  8980,\n",
       "  1.9,\n",
       "  2.21,\n",
       "  111,\n",
       "  2824,\n",
       "  2813),\n",
       " (4,\n",
       "  'Kladno',\n",
       "  'central Bohemia',\n",
       "  149893,\n",
       "  63,\n",
       "  29,\n",
       "  6,\n",
       "  2,\n",
       "  6,\n",
       "  67.4,\n",
       "  9753,\n",
       "  4.6,\n",
       "  5.05,\n",
       "  109,\n",
       "  5244,\n",
       "  5892),\n",
       " (5,\n",
       "  'Kolin',\n",
       "  'central Bohemia',\n",
       "  95616,\n",
       "  65,\n",
       "  30,\n",
       "  4,\n",
       "  1,\n",
       "  6,\n",
       "  51.4,\n",
       "  9307,\n",
       "  3.8,\n",
       "  4.43,\n",
       "  118,\n",
       "  2616,\n",
       "  3040)]"
      ]
     },
     "execution_count": 12,
     "metadata": {},
     "output_type": "execute_result"
    }
   ],
   "source": [
    "c.execute(\"SELECT * FROM district LIMIT 5;\").fetchall()"
   ]
  },
  {
   "cell_type": "code",
   "execution_count": 13,
   "metadata": {},
   "outputs": [
    {
     "data": {
      "text/plain": [
       "[(77,)]"
      ]
     },
     "execution_count": 13,
     "metadata": {},
     "output_type": "execute_result"
    }
   ],
   "source": [
    "c.execute(\"SELECT COUNT(*) FROM district;\").fetchall()"
   ]
  },
  {
   "cell_type": "code",
   "execution_count": 14,
   "metadata": {},
   "outputs": [
    {
     "data": {
      "text/plain": [
       "[('Hl.m. Praha', 'Prague'),\n",
       " ('Benesov', 'central Bohemia'),\n",
       " ('Beroun', 'central Bohemia'),\n",
       " ('Kladno', 'central Bohemia'),\n",
       " ('Kolin', 'central Bohemia'),\n",
       " ('Kutna Hora', 'central Bohemia'),\n",
       " ('Melnik', 'central Bohemia'),\n",
       " ('Mlada Boleslav', 'central Bohemia'),\n",
       " ('Nymburk', 'central Bohemia'),\n",
       " ('Praha - vychod', 'central Bohemia'),\n",
       " ('Praha - zapad', 'central Bohemia'),\n",
       " ('Pribram', 'central Bohemia'),\n",
       " ('Rakovnik', 'central Bohemia'),\n",
       " ('Ceske Budejovice', 'south Bohemia'),\n",
       " ('Cesky Krumlov', 'south Bohemia')]"
      ]
     },
     "execution_count": 14,
     "metadata": {},
     "output_type": "execute_result"
    }
   ],
   "source": [
    "c.execute('SELECT A2, A3 FROM district LIMIT 15;').fetchall()"
   ]
  },
  {
   "cell_type": "code",
   "execution_count": 15,
   "metadata": {},
   "outputs": [
    {
     "data": {
      "text/plain": [
       "[('south Moravia', 14),\n",
       " ('central Bohemia', 12),\n",
       " ('north Moravia', 11),\n",
       " ('east Bohemia', 11),\n",
       " ('west Bohemia', 10),\n",
       " ('north Bohemia', 10),\n",
       " ('south Bohemia', 8),\n",
       " ('Prague', 1)]"
      ]
     },
     "execution_count": 15,
     "metadata": {},
     "output_type": "execute_result"
    }
   ],
   "source": [
    "c.execute(\"SELECT A3, COUNT(*) FROM district GROUP BY A3 ORDER BY COUNT(*) DESC;\").fetchall()"
   ]
  },
  {
   "cell_type": "markdown",
   "metadata": {},
   "source": [
    "We see that there are 77 districts (combined with the district id in account. It appears that the first value after the ID is a city/part of the city name while the latter is a general region where the place is located.  We will also note that the most districts are in the South Bohemia region with Prague being its own region. Below we will find the number of accounts in each region (rather than district) by relating the two tables. There is nothin obvious that will relate this to any table in the database other than the account table (as we already had district id).  "
   ]
  },
  {
   "cell_type": "code",
   "execution_count": 16,
   "metadata": {},
   "outputs": [
    {
     "data": {
      "text/plain": [
       "[('north Moravia', 793),\n",
       " ('south Moravia', 778),\n",
       " ('central Bohemia', 574),\n",
       " ('Prague', 554),\n",
       " ('east Bohemia', 544),\n",
       " ('north Bohemia', 457),\n",
       " ('west Bohemia', 430),\n",
       " ('south Bohemia', 370)]"
      ]
     },
     "execution_count": 16,
     "metadata": {},
     "output_type": "execute_result"
    }
   ],
   "source": [
    "c.execute(\"SELECT A3, COUNT(*) FROM account JOIN district ON account.district_id = district.district_id GROUP BY A3 ORDER BY COUNT(*) DESC;\").fetchall()"
   ]
  },
  {
   "cell_type": "markdown",
   "metadata": {},
   "source": [
    "We see that the most accounts come from north Moravia with the fewest coming from south Bohemia.  This could help with targeting when related to overall population.  There is further demographic information for each region in this chart that could be further reserached. There is nothin obvious that will relate this to any table in the database other than the account table (as we already had district id).  We will next explore the 'card' table\n",
    "\n",
    "### Card Table"
   ]
  },
  {
   "cell_type": "code",
   "execution_count": 17,
   "metadata": {},
   "outputs": [
    {
     "data": {
      "text/plain": [
       "[(0, 'card_id', 'integer', 1, '0', 1),\n",
       " (1, 'disp_id', 'integer', 1, None, 0),\n",
       " (2, 'type', 'varchar(7)', 1, None, 0),\n",
       " (3, 'issued', 'date', 1, None, 0)]"
      ]
     },
     "execution_count": 17,
     "metadata": {},
     "output_type": "execute_result"
    }
   ],
   "source": [
    "c.execute(\"PRAGMA table_info(card);\").fetchall()"
   ]
  },
  {
   "cell_type": "code",
   "execution_count": 18,
   "metadata": {},
   "outputs": [
    {
     "data": {
      "text/plain": [
       "[(1, 9, 'gold', '1998-10-16'),\n",
       " (2, 19, 'classic', '1998-03-13'),\n",
       " (3, 41, 'gold', '1995-09-03'),\n",
       " (4, 42, 'classic', '1998-11-26'),\n",
       " (5, 51, 'junior', '1995-04-24')]"
      ]
     },
     "execution_count": 18,
     "metadata": {},
     "output_type": "execute_result"
    }
   ],
   "source": [
    "c.execute(\"SELECT * FROM card LIMIT 5;\").fetchall()"
   ]
  },
  {
   "cell_type": "code",
   "execution_count": 19,
   "metadata": {},
   "outputs": [
    {
     "data": {
      "text/plain": [
       "[('gold',), ('classic',), ('junior',)]"
      ]
     },
     "execution_count": 19,
     "metadata": {},
     "output_type": "execute_result"
    }
   ],
   "source": [
    "c.execute(\"SELECT DISTINCT type FROM card;\").fetchall()"
   ]
  },
  {
   "cell_type": "code",
   "execution_count": 20,
   "metadata": {},
   "outputs": [
    {
     "data": {
      "text/plain": [
       "[(892,)]"
      ]
     },
     "execution_count": 20,
     "metadata": {},
     "output_type": "execute_result"
    }
   ],
   "source": [
    "c.execute(\"SELECT COUNT(*) FROM card;\").fetchall()"
   ]
  },
  {
   "cell_type": "markdown",
   "metadata": {},
   "source": [
    "There are 892 cards in the table which have 3 distinct types, 'gold', 'classic', and 'junior'.  We also see that this can be directly related to the 'disp' table via the dips id.  We are also given dates which we can assume are card opening dates, we will next explore the 'disp' table to see the relationship.\n",
    "\n",
    "### Disp Table"
   ]
  },
  {
   "cell_type": "code",
   "execution_count": 21,
   "metadata": {},
   "outputs": [
    {
     "data": {
      "text/plain": [
       "[(0, 'disp_id', 'integer', 1, None, 1),\n",
       " (1, 'client_id', 'integer', 1, None, 0),\n",
       " (2, 'account_id', 'integer', 1, None, 0),\n",
       " (3, 'type', 'varchar(9)', 1, None, 0)]"
      ]
     },
     "execution_count": 21,
     "metadata": {},
     "output_type": "execute_result"
    }
   ],
   "source": [
    "c.execute(\"PRAGMA table_info(disp);\").fetchall()"
   ]
  },
  {
   "cell_type": "code",
   "execution_count": 22,
   "metadata": {},
   "outputs": [
    {
     "data": {
      "text/plain": [
       "[(1, 1, 1, 'OWNER'),\n",
       " (2, 2, 2, 'OWNER'),\n",
       " (3, 3, 2, 'DISPONENT'),\n",
       " (4, 4, 3, 'OWNER'),\n",
       " (5, 5, 3, 'DISPONENT')]"
      ]
     },
     "execution_count": 22,
     "metadata": {},
     "output_type": "execute_result"
    }
   ],
   "source": [
    "c.execute(\"SELECT * FROM disp LIMIT 5;\").fetchall()"
   ]
  },
  {
   "cell_type": "code",
   "execution_count": 23,
   "metadata": {},
   "outputs": [
    {
     "data": {
      "text/plain": [
       "[(5369,)]"
      ]
     },
     "execution_count": 23,
     "metadata": {},
     "output_type": "execute_result"
    }
   ],
   "source": [
    "c.execute(\"SELECT COUNT(*) FROM disp;\").fetchall()"
   ]
  },
  {
   "cell_type": "code",
   "execution_count": 24,
   "metadata": {},
   "outputs": [
    {
     "data": {
      "text/plain": [
       "[(4987,)]"
      ]
     },
     "execution_count": 24,
     "metadata": {},
     "output_type": "execute_result"
    }
   ],
   "source": [
    "c.execute(\"SELECT COUNT(*) FROM disp WHERE disp_id = client_id;\").fetchall()"
   ]
  },
  {
   "cell_type": "code",
   "execution_count": 25,
   "metadata": {},
   "outputs": [
    {
     "data": {
      "text/plain": [
       "[(8865, 9173, 7401, 'OWNER'),\n",
       " (8866, 9174, 7401, 'DISPONENT'),\n",
       " (8888, 9196, 7418, 'OWNER'),\n",
       " (8894, 9202, 7424, 'OWNER'),\n",
       " (8909, 9217, 7437, 'OWNER'),\n",
       " (8918, 9226, 7445, 'OWNER'),\n",
       " (8923, 9231, 7449, 'OWNER'),\n",
       " (8928, 9236, 7454, 'OWNER'),\n",
       " (8942, 9250, 7465, 'OWNER'),\n",
       " (8965, 9273, 7485, 'OWNER')]"
      ]
     },
     "execution_count": 25,
     "metadata": {},
     "output_type": "execute_result"
    }
   ],
   "source": [
    "c.execute(\"SELECT * FROM disp WHERE disp_id <> client_id LIMIT 10;\").fetchall()"
   ]
  },
  {
   "cell_type": "code",
   "execution_count": 26,
   "metadata": {},
   "outputs": [
    {
     "data": {
      "text/plain": [
       "[('OWNER',), ('DISPONENT',)]"
      ]
     },
     "execution_count": 26,
     "metadata": {},
     "output_type": "execute_result"
    }
   ],
   "source": [
    "c.execute('SELECT DISTINCT type FROM disp').fetchall()"
   ]
  },
  {
   "cell_type": "code",
   "execution_count": 27,
   "metadata": {},
   "outputs": [
    {
     "data": {
      "text/plain": [
       "[(4500,)]"
      ]
     },
     "execution_count": 27,
     "metadata": {},
     "output_type": "execute_result"
    }
   ],
   "source": [
    "c.execute(\"SELECT COUNT(DISTINCT account_id) FROM disp\").fetchall()"
   ]
  },
  {
   "cell_type": "code",
   "execution_count": 28,
   "metadata": {},
   "outputs": [
    {
     "data": {
      "text/plain": [
       "[(4500,)]"
      ]
     },
     "execution_count": 28,
     "metadata": {},
     "output_type": "execute_result"
    }
   ],
   "source": [
    "c.execute(\"SELECT COUNT(*) FROM disp WHERE type = 'OWNER'\").fetchall()"
   ]
  },
  {
   "cell_type": "markdown",
   "metadata": {},
   "source": [
    "There are 5369 items in the disp database which appears to be mostly a relational table.  We see that all 4500 accounts in the account table are directly related to the owner of each account.  We can also tell that all accounts are either owner and disponents.  The main purpose of this is to note the disponents under each account.  Most of the client ids and disponent ids are the same with some exceptions.  It is not immediately evident why these exceptions exist, but it may be related to people having multiple cards.  The client table will be next in our exploration\n",
    "\n",
    "### Client Table"
   ]
  },
  {
   "cell_type": "code",
   "execution_count": 29,
   "metadata": {},
   "outputs": [
    {
     "data": {
      "text/plain": [
       "[(0, 'client_id', 'integer', 1, None, 1),\n",
       " (1, 'gender', 'varchar(1)', 1, None, 0),\n",
       " (2, 'birth_date', 'date', 1, None, 0),\n",
       " (3, 'district_id', 'integer', 1, None, 0)]"
      ]
     },
     "execution_count": 29,
     "metadata": {},
     "output_type": "execute_result"
    }
   ],
   "source": [
    "c.execute(\"PRAGMA table_info(client);\").fetchall()"
   ]
  },
  {
   "cell_type": "code",
   "execution_count": 30,
   "metadata": {},
   "outputs": [
    {
     "data": {
      "text/plain": [
       "[(1, 'F', '1970-12-13', 18),\n",
       " (2, 'M', '1945-02-04', 1),\n",
       " (3, 'F', '1940-10-09', 1),\n",
       " (4, 'M', '1956-12-01', 5),\n",
       " (5, 'F', '1960-07-03', 5)]"
      ]
     },
     "execution_count": 30,
     "metadata": {},
     "output_type": "execute_result"
    }
   ],
   "source": [
    "c.execute(\"SELECT * FROM client LIMIT 5;\").fetchall()"
   ]
  },
  {
   "cell_type": "code",
   "execution_count": 31,
   "metadata": {},
   "outputs": [
    {
     "data": {
      "text/plain": [
       "[(2645,)]"
      ]
     },
     "execution_count": 31,
     "metadata": {},
     "output_type": "execute_result"
    }
   ],
   "source": [
    "c.execute(\"SELECT COUNT(*) FROM client WHERE gender = 'F';\").fetchall()"
   ]
  },
  {
   "cell_type": "code",
   "execution_count": 32,
   "metadata": {},
   "outputs": [
    {
     "data": {
      "text/plain": [
       "[(2724,)]"
      ]
     },
     "execution_count": 32,
     "metadata": {},
     "output_type": "execute_result"
    }
   ],
   "source": [
    "c.execute(\"SELECT COUNT(*) FROM client WHERE gender = 'M';\").fetchall()"
   ]
  },
  {
   "cell_type": "markdown",
   "metadata": {},
   "source": [
    "We can see that there are 5369 clients (the same as the number of rows in the disp table), as this table solely shows the gender, birthdate, id, and district of the client.  We see there are 2645 males and 2724 females.  If we wanted to figure out the distribution within a certain region (say south bohemia) we would have to join this table to the district table as below."
   ]
  },
  {
   "cell_type": "code",
   "execution_count": 33,
   "metadata": {},
   "outputs": [],
   "source": [
    "query = \"SELECT COUNT (*) FROM client JOIN district ON client.district_id = district.district_id WHERE gender = 'M' AND A3 = 'south Bohemia';\""
   ]
  },
  {
   "cell_type": "code",
   "execution_count": 34,
   "metadata": {},
   "outputs": [
    {
     "data": {
      "text/plain": [
       "[(218,)]"
      ]
     },
     "execution_count": 34,
     "metadata": {},
     "output_type": "execute_result"
    }
   ],
   "source": [
    "c.execute(query).fetchall() #number of males in south Bohemia"
   ]
  },
  {
   "cell_type": "code",
   "execution_count": 35,
   "metadata": {},
   "outputs": [],
   "source": [
    "query = \"SELECT COUNT (*) FROM client JOIN district ON client.district_id = district.district_id WHERE gender = 'F' AND A3 = 'south Bohemia';\""
   ]
  },
  {
   "cell_type": "code",
   "execution_count": 36,
   "metadata": {},
   "outputs": [
    {
     "data": {
      "text/plain": [
       "[(231,)]"
      ]
     },
     "execution_count": 36,
     "metadata": {},
     "output_type": "execute_result"
    }
   ],
   "source": [
    "c.execute(query).fetchall() #number of females in south Bohemia"
   ]
  },
  {
   "cell_type": "markdown",
   "metadata": {},
   "source": [
    "We can see that there are 449 clients in south Bohemia, 218 males and 231 females. We found this by joining the client and district tables and finding common values. As there is not a next step that is obvious in the relation (likely the rest are related to client, we will go to the next alphabetically and analyze the loan table\n",
    "\n",
    "### Loan Table"
   ]
  },
  {
   "cell_type": "code",
   "execution_count": 37,
   "metadata": {},
   "outputs": [
    {
     "data": {
      "text/plain": [
       "[(0, 'loan_id', 'integer', 1, '0', 1),\n",
       " (1, 'account_id', 'integer', 1, None, 0),\n",
       " (2, 'date', 'date', 1, None, 0),\n",
       " (3, 'amount', 'integer', 1, None, 0),\n",
       " (4, 'duration', 'integer', 1, None, 0),\n",
       " (5, 'payments', 'decimal(6,2)', 1, None, 0),\n",
       " (6, 'status', 'varchar(1)', 1, None, 0)]"
      ]
     },
     "execution_count": 37,
     "metadata": {},
     "output_type": "execute_result"
    }
   ],
   "source": [
    "c.execute(\"PRAGMA table_info(loan);\").fetchall()"
   ]
  },
  {
   "cell_type": "code",
   "execution_count": 38,
   "metadata": {},
   "outputs": [
    {
     "data": {
      "text/plain": [
       "[(4959, 2, '1994-01-05', 80952, 24, 3373, 'A'),\n",
       " (4961, 19, '1996-04-29', 30276, 12, 2523, 'B'),\n",
       " (4962, 25, '1997-12-08', 30276, 12, 2523, 'A'),\n",
       " (4967, 37, '1998-10-14', 318480, 60, 5308, 'D'),\n",
       " (4968, 38, '1998-04-19', 110736, 48, 2307, 'C')]"
      ]
     },
     "execution_count": 38,
     "metadata": {},
     "output_type": "execute_result"
    }
   ],
   "source": [
    "c.execute(\"SELECT * FROM loan LIMIT 5;\").fetchall()"
   ]
  },
  {
   "cell_type": "code",
   "execution_count": 39,
   "metadata": {},
   "outputs": [
    {
     "data": {
      "text/plain": [
       "[('A',), ('B',), ('D',), ('C',)]"
      ]
     },
     "execution_count": 39,
     "metadata": {},
     "output_type": "execute_result"
    }
   ],
   "source": [
    "c.execute(\"SELECT DISTINCT status FROM loan;\").fetchall()"
   ]
  },
  {
   "cell_type": "code",
   "execution_count": 40,
   "metadata": {},
   "outputs": [
    {
     "data": {
      "text/plain": [
       "[(682,)]"
      ]
     },
     "execution_count": 40,
     "metadata": {},
     "output_type": "execute_result"
    }
   ],
   "source": [
    "c.execute(\"SELECT COUNT(*) FROM loan;\").fetchall()"
   ]
  },
  {
   "cell_type": "markdown",
   "metadata": {},
   "source": [
    "We see that there are 682 loans in the database in one of four status markers (would need more documentation to determine this).  They are all associated with account numbers and can be related to the rest from account_id.  We also have dates of the loan, amounts of the loan, number of months the loan lasts and the number of payments made.  Continuing alphabetically, we will look at the order table\n",
    "\n",
    "### Order Table"
   ]
  },
  {
   "cell_type": "code",
   "execution_count": 41,
   "metadata": {},
   "outputs": [
    {
     "data": {
      "text/plain": [
       "[(0, 'order_id', 'integer', 1, '0', 1),\n",
       " (1, 'account_id', 'integer', 1, None, 0),\n",
       " (2, 'bank_to', 'varchar(2)', 1, None, 0),\n",
       " (3, 'account_to', 'integer', 1, None, 0),\n",
       " (4, 'amount', 'decimal(6,1)', 1, None, 0),\n",
       " (5, 'k_symbol', 'varchar(8)', 1, None, 0)]"
      ]
     },
     "execution_count": 41,
     "metadata": {},
     "output_type": "execute_result"
    }
   ],
   "source": [
    "c.execute(\"PRAGMA table_info('order');\").fetchall() #note, we need single quotes around 'order here because it is a keyword'"
   ]
  },
  {
   "cell_type": "code",
   "execution_count": 42,
   "metadata": {
    "scrolled": true
   },
   "outputs": [
    {
     "data": {
      "text/plain": [
       "[(29401, 1, 'YZ', 87144583, 2452, 'SIPO'),\n",
       " (29402, 2, 'ST', 89597016, 3372.7, 'UVER'),\n",
       " (29403, 2, 'QR', 13943797, 7266, 'SIPO'),\n",
       " (29404, 3, 'WX', 83084338, 1135, 'SIPO'),\n",
       " (29405, 3, 'CD', 24485939, 327, '')]"
      ]
     },
     "execution_count": 42,
     "metadata": {},
     "output_type": "execute_result"
    }
   ],
   "source": [
    "c.execute(\"SELECT * FROM 'order' LIMIT 5;\").fetchall()"
   ]
  },
  {
   "cell_type": "code",
   "execution_count": 43,
   "metadata": {},
   "outputs": [
    {
     "data": {
      "text/plain": [
       "[(6471,)]"
      ]
     },
     "execution_count": 43,
     "metadata": {},
     "output_type": "execute_result"
    }
   ],
   "source": [
    "c.execute(\"SELECT COUNT(*) FROM 'order';\").fetchall()"
   ]
  },
  {
   "cell_type": "code",
   "execution_count": 44,
   "metadata": {},
   "outputs": [
    {
     "data": {
      "text/plain": [
       "[('SIPO',), ('UVER',), ('',), ('POJISTNE',), ('LEASING',)]"
      ]
     },
     "execution_count": 44,
     "metadata": {},
     "output_type": "execute_result"
    }
   ],
   "source": [
    "c.execute(\"SELECT DISTINCT k_symbol FROM 'order';\").fetchall()"
   ]
  },
  {
   "cell_type": "markdown",
   "metadata": {},
   "source": [
    "Note that the order id is the primary key of this order.  We can also associate it back to account ids to relate it to other areas of the database.  We can tell which bank they go to (likely in another database), some of the reasons why (codes in k_symbol) and the amounts of these orders from this table.  There are 6471 orders (more than the number of accounts) so we can tell the total number of orders from each transaction.  Finally, we will analyze the last table trans\n",
    "\n",
    "### Trans Table"
   ]
  },
  {
   "cell_type": "code",
   "execution_count": 45,
   "metadata": {},
   "outputs": [
    {
     "data": {
      "text/plain": [
       "[(0, 'trans_id', 'integer', 1, '0', 1),\n",
       " (1, 'account_id', 'integer', 1, '0', 0),\n",
       " (2, 'date', 'date', 1, None, 0),\n",
       " (3, 'type', 'varchar(6)', 1, None, 0),\n",
       " (4, 'operation', 'varchar(14)', 0, 'NULL', 0),\n",
       " (5, 'amount', 'integer', 1, None, 0),\n",
       " (6, 'balance', 'integer', 1, None, 0),\n",
       " (7, 'k_symbol', 'varchar(11)', 0, 'NULL', 0),\n",
       " (8, 'bank', 'varchar(2)', 0, 'NULL', 0),\n",
       " (9, 'account', 'integer', 0, 'NULL', 0)]"
      ]
     },
     "execution_count": 45,
     "metadata": {},
     "output_type": "execute_result"
    }
   ],
   "source": [
    "c.execute(\"PRAGMA table_info('trans');\").fetchall()"
   ]
  },
  {
   "cell_type": "code",
   "execution_count": 46,
   "metadata": {},
   "outputs": [
    {
     "data": {
      "text/plain": [
       "[(1, 1, '1995-03-24', 'PRIJEM', 'VKLAD', 1000, 1000, None, None, None),\n",
       " (5,\n",
       "  1,\n",
       "  '1995-04-13',\n",
       "  'PRIJEM',\n",
       "  'PREVOD Z UCTU',\n",
       "  3679,\n",
       "  4679,\n",
       "  None,\n",
       "  'AB',\n",
       "  41403269),\n",
       " (6,\n",
       "  1,\n",
       "  '1995-05-13',\n",
       "  'PRIJEM',\n",
       "  'PREVOD Z UCTU',\n",
       "  3679,\n",
       "  20977,\n",
       "  None,\n",
       "  'AB',\n",
       "  41403269),\n",
       " (7,\n",
       "  1,\n",
       "  '1995-06-13',\n",
       "  'PRIJEM',\n",
       "  'PREVOD Z UCTU',\n",
       "  3679,\n",
       "  26835,\n",
       "  None,\n",
       "  'AB',\n",
       "  41403269),\n",
       " (8,\n",
       "  1,\n",
       "  '1995-07-13',\n",
       "  'PRIJEM',\n",
       "  'PREVOD Z UCTU',\n",
       "  3679,\n",
       "  30415,\n",
       "  None,\n",
       "  'AB',\n",
       "  41403269)]"
      ]
     },
     "execution_count": 46,
     "metadata": {},
     "output_type": "execute_result"
    }
   ],
   "source": [
    "c.execute(\"SELECT * FROM trans LIMIT 5;\").fetchall()"
   ]
  },
  {
   "cell_type": "code",
   "execution_count": 47,
   "metadata": {},
   "outputs": [
    {
     "data": {
      "text/plain": [
       "[(1056320,)]"
      ]
     },
     "execution_count": 47,
     "metadata": {},
     "output_type": "execute_result"
    }
   ],
   "source": [
    "c.execute(\"SELECT COUNT(*) FROM trans;\").fetchall()"
   ]
  },
  {
   "cell_type": "code",
   "execution_count": 48,
   "metadata": {},
   "outputs": [
    {
     "data": {
      "text/plain": [
       "[(None,),\n",
       " ('SIPO',),\n",
       " ('SLUZBY',),\n",
       " ('UVER',),\n",
       " (' ',),\n",
       " ('POJISTNE',),\n",
       " ('DUCHOD',),\n",
       " ('UROK',),\n",
       " ('SANKC. UROK',)]"
      ]
     },
     "execution_count": 48,
     "metadata": {},
     "output_type": "execute_result"
    }
   ],
   "source": [
    "c.execute(\"SELECT DISTINCT k_symbol FROM trans;\").fetchall()"
   ]
  },
  {
   "cell_type": "code",
   "execution_count": 49,
   "metadata": {},
   "outputs": [
    {
     "data": {
      "text/plain": [
       "[(375192,)]"
      ]
     },
     "execution_count": 49,
     "metadata": {},
     "output_type": "execute_result"
    }
   ],
   "source": [
    "c.execute(\"SELECT SUM(amount) FROM trans WHERE account_id = 1;\").fetchall()"
   ]
  },
  {
   "cell_type": "code",
   "execution_count": 50,
   "metadata": {},
   "outputs": [],
   "source": [
    "trans_amounts = c.execute('SELECT amount FROM trans;').fetchall()"
   ]
  },
  {
   "cell_type": "code",
   "execution_count": 51,
   "metadata": {},
   "outputs": [],
   "source": [
    "vals = [i[0] for i in trans_amounts]"
   ]
  },
  {
   "cell_type": "code",
   "execution_count": 52,
   "metadata": {},
   "outputs": [
    {
     "data": {
      "image/png": "[encoded data removed]",
      "text/plain": [
       "<Figure size 432x288 with 1 Axes>"
      ]
     },
     "metadata": {
      "needs_background": "light"
     },
     "output_type": "display_data"
    }
   ],
   "source": [
    "plt.hist(vals, bins = [0, 5000, 10000, 20000, 50000, 100000])\n",
    "plt.title('Histogram of transaction values in banking Dataset')\n",
    "plt.show()"
   ]
  },
  {
   "cell_type": "markdown",
   "metadata": {},
   "source": [
    "Transactions are the largest table of the dataset with over 1 million seperate tasnactions.  We note that the account ids are related again to everything else.  Each transaction has an amount and a final balance after each transaction along with a lot of identifying information which would require documenation to understand.  We notice that the k_symbols include some of the same information as the order table but also includes additional values that are not the same.  We can also analyze the activity of any given account, see the example above where we can tell that account id 1 had 375,192 (of whatever currency this is in) in total transactions in the database).  Some further analysis can be used to determine how much each district or region is spending.  Finally, we plot a histogram of the amount of each transaction, which even when given uneven vins shows the vast majority of transactions are under 5000 (of whatever currency this is in) and there are a negligible amount over 50,000.  An analyst could dig deeper to determine transaction risk assessment for each value."
   ]
  },
  {
   "cell_type": "markdown",
   "metadata": {},
   "source": [
    "## Conclusion/Further Analysis\n",
    "\n",
    "Overall, there is quite a bit of information here to analyze accounts and show analysis of orders and transactions.  We can see the regions people are from, the number of transactions they have, the amount of those transactions and some of their card and loan information (without any personally identifiable information).  Further data analysis if received could be the regions of each bank to determine the amount of national/international and within/outside district transactions occur and how active dispondents are.  As everything is organized by account id rather than dispondent/client id we only know the activity of each account.  The banker could use some more demographic data to determine where they may be underserving a community and provide some risk assessment and better products to better serve the community (and in turn profit more).  Some examples may be finding areas where loans are both highly popular and highly likely to be paid back or areas with low unemployment (and in turn a reduction in risk as they clients will have the ability to pay money back)."
   ]
  },
  {
   "cell_type": "code",
   "execution_count": 53,
   "metadata": {},
   "outputs": [],
   "source": [
    "c.close()  #this just closes the cursor"
   ]
  }
 ],
 "metadata": {
  "kernelspec": {
   "display_name": "Python 3",
   "language": "python",
   "name": "python3"
  },
  "language_info": {
   "codemirror_mode": {
    "name": "ipython",
    "version": 3
   },
   "file_extension": ".py",
   "mimetype": "text/x-python",
   "name": "python",
   "nbconvert_exporter": "python",
   "pygments_lexer": "ipython3",
   "version": "3.8.3"
  }
 },
 "nbformat": 4,
 "nbformat_minor": 4
}
